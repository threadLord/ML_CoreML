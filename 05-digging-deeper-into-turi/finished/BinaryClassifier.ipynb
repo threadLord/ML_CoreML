{
 "cells": [
  {
   "cell_type": "code",
   "execution_count": 1,
   "metadata": {},
   "outputs": [],
   "source": [
    "import turicreate as tc\n",
    "import matplotlib.pyplot as plt"
   ]
  },
  {
   "cell_type": "code",
   "execution_count": 41,
   "metadata": {},
   "outputs": [
    {
     "data": {
      "text/plain": [
       "4838"
      ]
     },
     "execution_count": 41,
     "metadata": {},
     "output_type": "execute_result"
    }
   ],
   "source": [
    "train_data = tc.image_analysis.load_images(\"snacks/train\", with_path=True)\n",
    "len(train_data)"
   ]
  },
  {
   "cell_type": "code",
   "execution_count": 2,
   "metadata": {},
   "outputs": [
    {
     "data": {
      "text/plain": [
       "952"
      ]
     },
     "execution_count": 2,
     "metadata": {},
     "output_type": "execute_result"
    }
   ],
   "source": [
    "test_data = tc.image_analysis.load_images(\"snacks/test\", with_path=True)\n",
    "len(test_data)"
   ]
  },
  {
   "cell_type": "code",
   "execution_count": 5,
   "metadata": {},
   "outputs": [
    {
     "name": "stdout",
     "output_type": "stream",
     "text": [
      "+-----------+-------+\n",
      "|   value   | count |\n",
      "+-----------+-------+\n",
      "|  healthy  |  2507 |\n",
      "| unhealthy |  2331 |\n",
      "+-----------+-------+\n",
      "[2 rows x 2 columns]\n",
      "\n"
     ]
    }
   ],
   "source": [
    "healthy = [\n",
    "    'apple',\n",
    "    'banana',\n",
    "    'carrot',\n",
    "    'grape',\n",
    "    'juice',\n",
    "    'orange',\n",
    "    'pineapple',\n",
    "    'salad',\n",
    "    'strawberry',\n",
    "    'watermelon',\n",
    "]\n",
    "\n",
    "unhealthy = [\n",
    "    'cake',\n",
    "    'candy',\n",
    "    'cookie',\n",
    "    'doughnut',\n",
    "    'hot dog',\n",
    "    'ice cream',\n",
    "    'muffin',\n",
    "    'popcorn',\n",
    "    'pretzel',\n",
    "    'waffle',\n",
    "]\n",
    "\n",
    "import os\n",
    "train_data[\"label\"] = train_data[\"path\"].apply(lambda path: \"healthy\"\n",
    "                         if any(\"/\" + class_name in path for class_name in healthy) \n",
    "                         else \"unhealthy\")\n",
    "train_data[\"label\"].value_counts().print_rows(num_rows=20)"
   ]
  },
  {
   "cell_type": "code",
   "execution_count": 6,
   "metadata": {},
   "outputs": [
    {
     "data": {
      "text/html": [
       "<pre>Analyzing and extracting image features.</pre>"
      ],
      "text/plain": [
       "Analyzing and extracting image features."
      ]
     },
     "metadata": {},
     "output_type": "display_data"
    },
    {
     "data": {
      "text/html": [
       "<pre>+------------------+--------------+------------------+</pre>"
      ],
      "text/plain": [
       "+------------------+--------------+------------------+"
      ]
     },
     "metadata": {},
     "output_type": "display_data"
    },
    {
     "data": {
      "text/html": [
       "<pre>| Images Processed | Elapsed Time | Percent Complete |</pre>"
      ],
      "text/plain": [
       "| Images Processed | Elapsed Time | Percent Complete |"
      ]
     },
     "metadata": {},
     "output_type": "display_data"
    },
    {
     "data": {
      "text/html": [
       "<pre>+------------------+--------------+------------------+</pre>"
      ],
      "text/plain": [
       "+------------------+--------------+------------------+"
      ]
     },
     "metadata": {},
     "output_type": "display_data"
    },
    {
     "data": {
      "text/html": [
       "<pre>| 64               | 1.20s        | 1.25%            |</pre>"
      ],
      "text/plain": [
       "| 64               | 1.20s        | 1.25%            |"
      ]
     },
     "metadata": {},
     "output_type": "display_data"
    },
    {
     "data": {
      "text/html": [
       "<pre>| 128              | 2.37s        | 2.5%             |</pre>"
      ],
      "text/plain": [
       "| 128              | 2.37s        | 2.5%             |"
      ]
     },
     "metadata": {},
     "output_type": "display_data"
    },
    {
     "data": {
      "text/html": [
       "<pre>| 192              | 3.31s        | 3.75%            |</pre>"
      ],
      "text/plain": [
       "| 192              | 3.31s        | 3.75%            |"
      ]
     },
     "metadata": {},
     "output_type": "display_data"
    },
    {
     "data": {
      "text/html": [
       "<pre>| 256              | 4.21s        | 5.25%            |</pre>"
      ],
      "text/plain": [
       "| 256              | 4.21s        | 5.25%            |"
      ]
     },
     "metadata": {},
     "output_type": "display_data"
    },
    {
     "data": {
      "text/html": [
       "<pre>| 320              | 5.40s        | 6.5%             |</pre>"
      ],
      "text/plain": [
       "| 320              | 5.40s        | 6.5%             |"
      ]
     },
     "metadata": {},
     "output_type": "display_data"
    },
    {
     "data": {
      "text/html": [
       "<pre>| 640              | 10.17s       | 13%              |</pre>"
      ],
      "text/plain": [
       "| 640              | 10.17s       | 13%              |"
      ]
     },
     "metadata": {},
     "output_type": "display_data"
    },
    {
     "data": {
      "text/html": [
       "<pre>| 960              | 15.59s       | 19.5%            |</pre>"
      ],
      "text/plain": [
       "| 960              | 15.59s       | 19.5%            |"
      ]
     },
     "metadata": {},
     "output_type": "display_data"
    },
    {
     "data": {
      "text/html": [
       "<pre>| 1280             | 20.51s       | 26.25%           |</pre>"
      ],
      "text/plain": [
       "| 1280             | 20.51s       | 26.25%           |"
      ]
     },
     "metadata": {},
     "output_type": "display_data"
    },
    {
     "data": {
      "text/html": [
       "<pre>| 1600             | 25.92s       | 32.75%           |</pre>"
      ],
      "text/plain": [
       "| 1600             | 25.92s       | 32.75%           |"
      ]
     },
     "metadata": {},
     "output_type": "display_data"
    },
    {
     "data": {
      "text/html": [
       "<pre>| 1920             | 30.70s       | 39.25%           |</pre>"
      ],
      "text/plain": [
       "| 1920             | 30.70s       | 39.25%           |"
      ]
     },
     "metadata": {},
     "output_type": "display_data"
    },
    {
     "data": {
      "text/html": [
       "<pre>| 2240             | 35.66s       | 46%              |</pre>"
      ],
      "text/plain": [
       "| 2240             | 35.66s       | 46%              |"
      ]
     },
     "metadata": {},
     "output_type": "display_data"
    },
    {
     "data": {
      "text/html": [
       "<pre>| 2560             | 40.35s       | 52.5%            |</pre>"
      ],
      "text/plain": [
       "| 2560             | 40.35s       | 52.5%            |"
      ]
     },
     "metadata": {},
     "output_type": "display_data"
    },
    {
     "data": {
      "text/html": [
       "<pre>| 2880             | 44.92s       | 59%              |</pre>"
      ],
      "text/plain": [
       "| 2880             | 44.92s       | 59%              |"
      ]
     },
     "metadata": {},
     "output_type": "display_data"
    },
    {
     "data": {
      "text/html": [
       "<pre>| 3200             | 49.84s       | 65.75%           |</pre>"
      ],
      "text/plain": [
       "| 3200             | 49.84s       | 65.75%           |"
      ]
     },
     "metadata": {},
     "output_type": "display_data"
    },
    {
     "data": {
      "text/html": [
       "<pre>| 3520             | 54.98s       | 72.25%           |</pre>"
      ],
      "text/plain": [
       "| 3520             | 54.98s       | 72.25%           |"
      ]
     },
     "metadata": {},
     "output_type": "display_data"
    },
    {
     "data": {
      "text/html": [
       "<pre>| 3840             | 1m 1s        | 78.75%           |</pre>"
      ],
      "text/plain": [
       "| 3840             | 1m 1s        | 78.75%           |"
      ]
     },
     "metadata": {},
     "output_type": "display_data"
    },
    {
     "data": {
      "text/html": [
       "<pre>| 4160             | 1m 6s        | 85.5%            |</pre>"
      ],
      "text/plain": [
       "| 4160             | 1m 6s        | 85.5%            |"
      ]
     },
     "metadata": {},
     "output_type": "display_data"
    },
    {
     "data": {
      "text/html": [
       "<pre>| 4480             | 1m 10s       | 92%              |</pre>"
      ],
      "text/plain": [
       "| 4480             | 1m 10s       | 92%              |"
      ]
     },
     "metadata": {},
     "output_type": "display_data"
    },
    {
     "data": {
      "text/html": [
       "<pre>| 4800             | 1m 15s       | 98.5%            |</pre>"
      ],
      "text/plain": [
       "| 4800             | 1m 15s       | 98.5%            |"
      ]
     },
     "metadata": {},
     "output_type": "display_data"
    },
    {
     "data": {
      "text/html": [
       "<pre>| 4838             | 1m 17s       | 100%             |</pre>"
      ],
      "text/plain": [
       "| 4838             | 1m 17s       | 100%             |"
      ]
     },
     "metadata": {},
     "output_type": "display_data"
    },
    {
     "data": {
      "text/html": [
       "<pre>+------------------+--------------+------------------+</pre>"
      ],
      "text/plain": [
       "+------------------+--------------+------------------+"
      ]
     },
     "metadata": {},
     "output_type": "display_data"
    },
    {
     "name": "stdout",
     "output_type": "stream",
     "text": [
      "PROGRESS: Creating a validation set from 5 percent of training data. This may take a while.\n",
      "          You can set ``validation_set=None`` to disable validation tracking.\n",
      "\n"
     ]
    },
    {
     "data": {
      "text/html": [
       "<pre>Logistic regression:</pre>"
      ],
      "text/plain": [
       "Logistic regression:"
      ]
     },
     "metadata": {},
     "output_type": "display_data"
    },
    {
     "data": {
      "text/html": [
       "<pre>--------------------------------------------------------</pre>"
      ],
      "text/plain": [
       "--------------------------------------------------------"
      ]
     },
     "metadata": {},
     "output_type": "display_data"
    },
    {
     "data": {
      "text/html": [
       "<pre>Number of examples          : 4611</pre>"
      ],
      "text/plain": [
       "Number of examples          : 4611"
      ]
     },
     "metadata": {},
     "output_type": "display_data"
    },
    {
     "data": {
      "text/html": [
       "<pre>Number of classes           : 2</pre>"
      ],
      "text/plain": [
       "Number of classes           : 2"
      ]
     },
     "metadata": {},
     "output_type": "display_data"
    },
    {
     "data": {
      "text/html": [
       "<pre>Number of feature columns   : 1</pre>"
      ],
      "text/plain": [
       "Number of feature columns   : 1"
      ]
     },
     "metadata": {},
     "output_type": "display_data"
    },
    {
     "data": {
      "text/html": [
       "<pre>Number of unpacked features : 1000</pre>"
      ],
      "text/plain": [
       "Number of unpacked features : 1000"
      ]
     },
     "metadata": {},
     "output_type": "display_data"
    },
    {
     "data": {
      "text/html": [
       "<pre>Number of coefficients      : 1001</pre>"
      ],
      "text/plain": [
       "Number of coefficients      : 1001"
      ]
     },
     "metadata": {},
     "output_type": "display_data"
    },
    {
     "data": {
      "text/html": [
       "<pre>Starting L-BFGS</pre>"
      ],
      "text/plain": [
       "Starting L-BFGS"
      ]
     },
     "metadata": {},
     "output_type": "display_data"
    },
    {
     "data": {
      "text/html": [
       "<pre>--------------------------------------------------------</pre>"
      ],
      "text/plain": [
       "--------------------------------------------------------"
      ]
     },
     "metadata": {},
     "output_type": "display_data"
    },
    {
     "data": {
      "text/html": [
       "<pre>+-----------+----------+-----------+--------------+-------------------+---------------------+</pre>"
      ],
      "text/plain": [
       "+-----------+----------+-----------+--------------+-------------------+---------------------+"
      ]
     },
     "metadata": {},
     "output_type": "display_data"
    },
    {
     "data": {
      "text/html": [
       "<pre>| Iteration | Passes   | Step size | Elapsed Time | Training Accuracy | Validation Accuracy |</pre>"
      ],
      "text/plain": [
       "| Iteration | Passes   | Step size | Elapsed Time | Training Accuracy | Validation Accuracy |"
      ]
     },
     "metadata": {},
     "output_type": "display_data"
    },
    {
     "data": {
      "text/html": [
       "<pre>+-----------+----------+-----------+--------------+-------------------+---------------------+</pre>"
      ],
      "text/plain": [
       "+-----------+----------+-----------+--------------+-------------------+---------------------+"
      ]
     },
     "metadata": {},
     "output_type": "display_data"
    },
    {
     "data": {
      "text/html": [
       "<pre>| 0         | 1        | NaN       | 0.155724     | 0.481457          | 0.488987            |</pre>"
      ],
      "text/plain": [
       "| 0         | 1        | NaN       | 0.155724     | 0.481457          | 0.488987            |"
      ]
     },
     "metadata": {},
     "output_type": "display_data"
    },
    {
     "data": {
      "text/html": [
       "<pre>| 1         | 6        | 0.000003  | 1.012705     | 0.518543          | 0.511013            |</pre>"
      ],
      "text/plain": [
       "| 1         | 6        | 0.000003  | 1.012705     | 0.518543          | 0.511013            |"
      ]
     },
     "metadata": {},
     "output_type": "display_data"
    },
    {
     "data": {
      "text/html": [
       "<pre>| 2         | 10       | 21.000000 | 1.759394     | 0.710475          | 0.722467            |</pre>"
      ],
      "text/plain": [
       "| 2         | 10       | 21.000000 | 1.759394     | 0.710475          | 0.722467            |"
      ]
     },
     "metadata": {},
     "output_type": "display_data"
    },
    {
     "data": {
      "text/html": [
       "<pre>| 3         | 11       | 21.000000 | 1.998341     | 0.545652          | 0.546256            |</pre>"
      ],
      "text/plain": [
       "| 3         | 11       | 21.000000 | 1.998341     | 0.545652          | 0.546256            |"
      ]
     },
     "metadata": {},
     "output_type": "display_data"
    },
    {
     "data": {
      "text/html": [
       "<pre>| 4         | 13       | 1.000000  | 2.334232     | 0.682498          | 0.678414            |</pre>"
      ],
      "text/plain": [
       "| 4         | 13       | 1.000000  | 2.334232     | 0.682498          | 0.678414            |"
      ]
     },
     "metadata": {},
     "output_type": "display_data"
    },
    {
     "data": {
      "text/html": [
       "<pre>| 5         | 14       | 1.000000  | 2.560685     | 0.480807          | 0.488987            |</pre>"
      ],
      "text/plain": [
       "| 5         | 14       | 1.000000  | 2.560685     | 0.480807          | 0.488987            |"
      ]
     },
     "metadata": {},
     "output_type": "display_data"
    },
    {
     "data": {
      "text/html": [
       "<pre>| 10        | 23       | 1.000000  | 4.302862     | 0.481457          | 0.488987            |</pre>"
      ],
      "text/plain": [
       "| 10        | 23       | 1.000000  | 4.302862     | 0.481457          | 0.488987            |"
      ]
     },
     "metadata": {},
     "output_type": "display_data"
    },
    {
     "data": {
      "text/html": [
       "<pre>| 20        | 37       | 1.000000  | 7.591022     | 0.636738          | 0.643172            |</pre>"
      ],
      "text/plain": [
       "| 20        | 37       | 1.000000  | 7.591022     | 0.636738          | 0.643172            |"
      ]
     },
     "metadata": {},
     "output_type": "display_data"
    },
    {
     "data": {
      "text/html": [
       "<pre>| 30        | 53       | 0.079982  | 10.875228    | 0.768597          | 0.748899            |</pre>"
      ],
      "text/plain": [
       "| 30        | 53       | 0.079982  | 10.875228    | 0.768597          | 0.748899            |"
      ]
     },
     "metadata": {},
     "output_type": "display_data"
    },
    {
     "data": {
      "text/html": [
       "<pre>| 40        | 63       | 0.079982  | 13.315980    | 0.795489          | 0.757709            |</pre>"
      ],
      "text/plain": [
       "| 40        | 63       | 0.079982  | 13.315980    | 0.795489          | 0.757709            |"
      ]
     },
     "metadata": {},
     "output_type": "display_data"
    },
    {
     "data": {
      "text/html": [
       "<pre>| 50        | 73       | 0.079982  | 15.745703    | 0.821297          | 0.792952            |</pre>"
      ],
      "text/plain": [
       "| 50        | 73       | 0.079982  | 15.745703    | 0.821297          | 0.792952            |"
      ]
     },
     "metadata": {},
     "output_type": "display_data"
    },
    {
     "data": {
      "text/html": [
       "<pre>| 60        | 83       | 0.079982  | 18.064712    | 0.852743          | 0.823789            |</pre>"
      ],
      "text/plain": [
       "| 60        | 83       | 0.079982  | 18.064712    | 0.852743          | 0.823789            |"
      ]
     },
     "metadata": {},
     "output_type": "display_data"
    },
    {
     "data": {
      "text/html": [
       "<pre>| 70        | 93       | 0.079982  | 20.366577    | 0.863587          | 0.837004            |</pre>"
      ],
      "text/plain": [
       "| 70        | 93       | 0.079982  | 20.366577    | 0.863587          | 0.837004            |"
      ]
     },
     "metadata": {},
     "output_type": "display_data"
    },
    {
     "data": {
      "text/html": [
       "<pre>| 80        | 103      | 0.079982  | 22.824011    | 0.865756          | 0.841410            |</pre>"
      ],
      "text/plain": [
       "| 80        | 103      | 0.079982  | 22.824011    | 0.865756          | 0.841410            |"
      ]
     },
     "metadata": {},
     "output_type": "display_data"
    },
    {
     "data": {
      "text/html": [
       "<pre>| 90        | 114      | 1.000000  | 25.553991    | 0.878334          | 0.837004            |</pre>"
      ],
      "text/plain": [
       "| 90        | 114      | 1.000000  | 25.553991    | 0.878334          | 0.837004            |"
      ]
     },
     "metadata": {},
     "output_type": "display_data"
    },
    {
     "data": {
      "text/html": [
       "<pre>| 100       | 125      | 1.000000  | 28.020592    | 0.881804          | 0.845815            |</pre>"
      ],
      "text/plain": [
       "| 100       | 125      | 1.000000  | 28.020592    | 0.881804          | 0.845815            |"
      ]
     },
     "metadata": {},
     "output_type": "display_data"
    },
    {
     "data": {
      "text/html": [
       "<pre>+-----------+----------+-----------+--------------+-------------------+---------------------+</pre>"
      ],
      "text/plain": [
       "+-----------+----------+-----------+--------------+-------------------+---------------------+"
      ]
     },
     "metadata": {},
     "output_type": "display_data"
    },
    {
     "data": {
      "text/html": [
       "<pre>Completed (Iteration limit reached).</pre>"
      ],
      "text/plain": [
       "Completed (Iteration limit reached)."
      ]
     },
     "metadata": {},
     "output_type": "display_data"
    },
    {
     "data": {
      "text/html": [
       "<pre>This model may not be optimal. To improve it, consider increasing `max_iterations`.</pre>"
      ],
      "text/plain": [
       "This model may not be optimal. To improve it, consider increasing `max_iterations`."
      ]
     },
     "metadata": {},
     "output_type": "display_data"
    }
   ],
   "source": [
    "binary_model = tc.image_classifier.create(train_data, target=\"label\", \n",
    "                                   model=\"squeezenet_v1.1\",\n",
    "                                   verbose=True, max_iterations=100)"
   ]
  },
  {
   "cell_type": "code",
   "execution_count": 7,
   "metadata": {},
   "outputs": [
    {
     "name": "stdout",
     "output_type": "stream",
     "text": [
      "+-----------+-------+\n",
      "|   value   | count |\n",
      "+-----------+-------+\n",
      "|  healthy  |  489  |\n",
      "| unhealthy |  463  |\n",
      "+-----------+-------+\n",
      "[2 rows x 2 columns]\n",
      "\n"
     ]
    }
   ],
   "source": [
    "test_data[\"label\"] = test_data[\"path\"].apply(lambda path: \"healthy\"\n",
    "                         if any(\"/\" + class_name in path for class_name in healthy) \n",
    "                         else \"unhealthy\")\n",
    "test_data[\"label\"].value_counts().print_rows(num_rows=20)"
   ]
  },
  {
   "cell_type": "code",
   "execution_count": 9,
   "metadata": {},
   "outputs": [
    {
     "data": {
      "text/html": [
       "<pre>Analyzing and extracting image features.</pre>"
      ],
      "text/plain": [
       "Analyzing and extracting image features."
      ]
     },
     "metadata": {},
     "output_type": "display_data"
    },
    {
     "data": {
      "text/html": [
       "<pre>+------------------+--------------+------------------+</pre>"
      ],
      "text/plain": [
       "+------------------+--------------+------------------+"
      ]
     },
     "metadata": {},
     "output_type": "display_data"
    },
    {
     "data": {
      "text/html": [
       "<pre>| Images Processed | Elapsed Time | Percent Complete |</pre>"
      ],
      "text/plain": [
       "| Images Processed | Elapsed Time | Percent Complete |"
      ]
     },
     "metadata": {},
     "output_type": "display_data"
    },
    {
     "data": {
      "text/html": [
       "<pre>+------------------+--------------+------------------+</pre>"
      ],
      "text/plain": [
       "+------------------+--------------+------------------+"
      ]
     },
     "metadata": {},
     "output_type": "display_data"
    },
    {
     "data": {
      "text/html": [
       "<pre>| 64               | 1.49s        | 6.5%             |</pre>"
      ],
      "text/plain": [
       "| 64               | 1.49s        | 6.5%             |"
      ]
     },
     "metadata": {},
     "output_type": "display_data"
    },
    {
     "data": {
      "text/html": [
       "<pre>| 128              | 2.35s        | 13.25%           |</pre>"
      ],
      "text/plain": [
       "| 128              | 2.35s        | 13.25%           |"
      ]
     },
     "metadata": {},
     "output_type": "display_data"
    },
    {
     "data": {
      "text/html": [
       "<pre>| 192              | 3.44s        | 20%              |</pre>"
      ],
      "text/plain": [
       "| 192              | 3.44s        | 20%              |"
      ]
     },
     "metadata": {},
     "output_type": "display_data"
    },
    {
     "data": {
      "text/html": [
       "<pre>| 256              | 4.44s        | 26.5%            |</pre>"
      ],
      "text/plain": [
       "| 256              | 4.44s        | 26.5%            |"
      ]
     },
     "metadata": {},
     "output_type": "display_data"
    },
    {
     "data": {
      "text/html": [
       "<pre>| 320              | 5.46s        | 33.25%           |</pre>"
      ],
      "text/plain": [
       "| 320              | 5.46s        | 33.25%           |"
      ]
     },
     "metadata": {},
     "output_type": "display_data"
    },
    {
     "data": {
      "text/html": [
       "<pre>| 640              | 10.05s       | 66.5%            |</pre>"
      ],
      "text/plain": [
       "| 640              | 10.05s       | 66.5%            |"
      ]
     },
     "metadata": {},
     "output_type": "display_data"
    },
    {
     "data": {
      "text/html": [
       "<pre>| 952              | 14.28s       | 100%             |</pre>"
      ],
      "text/plain": [
       "| 952              | 14.28s       | 100%             |"
      ]
     },
     "metadata": {},
     "output_type": "display_data"
    },
    {
     "data": {
      "text/html": [
       "<pre>+------------------+--------------+------------------+</pre>"
      ],
      "text/plain": [
       "+------------------+--------------+------------------+"
      ]
     },
     "metadata": {},
     "output_type": "display_data"
    },
    {
     "name": "stdout",
     "output_type": "stream",
     "text": [
      "Accuracy:  0.8581932773109243\n",
      "Precision:  0.8596491228070176\n",
      "Recall:  0.8466522678185745\n"
     ]
    }
   ],
   "source": [
    "metrics = binary_model.evaluate(test_data)\n",
    "print(\"Accuracy: \", metrics[\"accuracy\"])\n",
    "print(\"Precision: \", metrics[\"precision\"])\n",
    "print(\"Recall: \", metrics[\"recall\"])"
   ]
  },
  {
   "cell_type": "code",
   "execution_count": 10,
   "metadata": {},
   "outputs": [],
   "source": [
    "multi_model = tc.load_model(\"HealthySnacks.model\")"
   ]
  },
  {
   "cell_type": "code",
   "execution_count": 15,
   "metadata": {},
   "outputs": [],
   "source": [
    "output = multi_model.classify(test_data)\n",
    "imgs_with_pred = test_data.add_columns(output)\n",
    "imgs_with_pred"
   ]
  },
  {
   "cell_type": "code",
   "execution_count": 42,
   "metadata": {
    "scrolled": true
   },
   "outputs": [
    {
     "data": {
      "text/plain": [
       "<bound method SFrame.num_rows of Columns:\n",
       "\tpath\tstr\n",
       "\timage\tImage\n",
       "\tlabel\tstr\n",
       "\tclass\tstr\n",
       "\tprobability\tfloat\n",
       "\n",
       "Rows: 509\n",
       "\n",
       "Data:\n",
       "+-------------------------------+------------------------+---------+--------+\n",
       "|              path             |         image          |  label  | class  |\n",
       "+-------------------------------+------------------------+---------+--------+\n",
       "| snacks/test/apple/00341c3c... | Height: 256 Width: 256 | healthy | apple  |\n",
       "| snacks/test/apple/004be96d... | Height: 256 Width: 384 | healthy | grape  |\n",
       "| snacks/test/apple/01ac2a42... | Height: 256 Width: 341 | healthy | orange |\n",
       "| snacks/test/apple/03bfc0b1... | Height: 256 Width: 384 | healthy | orange |\n",
       "| snacks/test/apple/09ed54b3... | Height: 256 Width: 455 | healthy | orange |\n",
       "| snacks/test/apple/0f8670e4... | Height: 256 Width: 361 | healthy | apple  |\n",
       "| snacks/test/apple/137591bb... | Height: 256 Width: 385 | healthy | orange |\n",
       "| snacks/test/apple/1382c47d... | Height: 256 Width: 332 | healthy | apple  |\n",
       "| snacks/test/apple/1db0cb75... | Height: 256 Width: 341 | healthy | apple  |\n",
       "| snacks/test/apple/1e5a5b8f... | Height: 256 Width: 256 | healthy | grape  |\n",
       "+-------------------------------+------------------------+---------+--------+\n",
       "+---------------------+\n",
       "|     probability     |\n",
       "+---------------------+\n",
       "|  0.4326385132863121 |\n",
       "|  0.699598450277612  |\n",
       "|  0.4148821902502113 |\n",
       "|  0.9300597134095988 |\n",
       "| 0.37817135281719916 |\n",
       "|  0.9915643139757563 |\n",
       "| 0.42620238429617097 |\n",
       "|  0.5843046904699805 |\n",
       "|  0.9574830190644478 |\n",
       "|  0.5392903524737489 |\n",
       "+---------------------+\n",
       "[509 rows x 5 columns]\n",
       "Note: Only the head of the SFrame is printed.\n",
       "You can use print_rows(num_rows=m, num_columns=n) to print more rows and columns.>"
      ]
     },
     "execution_count": 42,
     "metadata": {},
     "output_type": "execute_result"
    }
   ],
   "source": [
    "# Find images the model predicts are in classes in the healthy array\n",
    "imgs_healthy_classes = imgs_with_pred.filter_by(healthy, 'class')\n",
    "imgs_healthy_classes.num_rows"
   ]
  },
  {
   "cell_type": "code",
   "execution_count": 43,
   "metadata": {},
   "outputs": [
    {
     "data": {
      "text/plain": [
       "<bound method SFrame.num_rows of Columns:\n",
       "\tpath\tstr\n",
       "\timage\tImage\n",
       "\tlabel\tstr\n",
       "\tclass\tstr\n",
       "\tprobability\tfloat\n",
       "\n",
       "Rows: 62\n",
       "\n",
       "Data:\n",
       "+-------------------------------+------------------------+-----------+\n",
       "|              path             |         image          |   label   |\n",
       "+-------------------------------+------------------------+-----------+\n",
       "| snacks/test/cake/260e10129... | Height: 256 Width: 341 | unhealthy |\n",
       "| snacks/test/cake/3a4333057... | Height: 256 Width: 341 | unhealthy |\n",
       "| snacks/test/cake/49464fc61... | Height: 256 Width: 384 | unhealthy |\n",
       "| snacks/test/cake/600c36d1e... | Height: 256 Width: 341 | unhealthy |\n",
       "| snacks/test/cake/6172064bb... | Height: 256 Width: 341 | unhealthy |\n",
       "| snacks/test/cake/8199f71f6... | Height: 256 Width: 385 | unhealthy |\n",
       "| snacks/test/cake/88aa21549... | Height: 256 Width: 342 | unhealthy |\n",
       "| snacks/test/cake/be1f7d586... | Height: 256 Width: 256 | unhealthy |\n",
       "| snacks/test/cake/c40332662... | Height: 256 Width: 385 | unhealthy |\n",
       "| snacks/test/cake/cebbdeeee... | Height: 256 Width: 353 | unhealthy |\n",
       "+-------------------------------+------------------------+-----------+\n",
       "+------------+---------------------+\n",
       "|   class    |     probability     |\n",
       "+------------+---------------------+\n",
       "| pineapple  |  0.8997102464673951 |\n",
       "|   apple    | 0.40105475912731847 |\n",
       "|   juice    |  0.3304809428823518 |\n",
       "| strawberry |  0.5411152658884663 |\n",
       "|   juice    |  0.805012141760817  |\n",
       "|   carrot   |  0.6438949453681103 |\n",
       "|   juice    |  0.4869202098987132 |\n",
       "|   salad    |  0.4305509766819316 |\n",
       "|   salad    |  0.4169449423544048 |\n",
       "| watermelon |  0.6120259324073641 |\n",
       "+------------+---------------------+\n",
       "[62 rows x 5 columns]\n",
       "Note: Only the head of the SFrame is printed.\n",
       "You can use print_rows(num_rows=m, num_columns=n) to print more rows and columns.>"
      ]
     },
     "execution_count": 43,
     "metadata": {},
     "output_type": "execute_result"
    }
   ],
   "source": [
    "# Find images predicted to be in healthy classes whose label is 'unhealthy'\n",
    "imgs_unhealthy_label = imgs_filtered.filter_by(['unhealthy'], 'label')\n",
    "imgs_unhealthy_label.num_rows"
   ]
  },
  {
   "cell_type": "code",
   "execution_count": 40,
   "metadata": {},
   "outputs": [
    {
     "data": {
      "text/plain": [
       "0.4695378151260504"
      ]
     },
     "execution_count": 40,
     "metadata": {},
     "output_type": "execute_result"
    }
   ],
   "source": [
    "correct = 509 - 62\n",
    "accuracy = correct/952\n",
    "accuracy"
   ]
  }
 ],
 "metadata": {
  "kernelspec": {
   "display_name": "Python 3",
   "language": "python",
   "name": "python3"
  },
  "language_info": {
   "codemirror_mode": {
    "name": "ipython",
    "version": 3
   },
   "file_extension": ".py",
   "mimetype": "text/x-python",
   "name": "python",
   "nbconvert_exporter": "python",
   "pygments_lexer": "ipython3",
   "version": "3.6.5"
  }
 },
 "nbformat": 4,
 "nbformat_minor": 2
}
