{
 "cells": [
  {
   "cell_type": "code",
   "execution_count": null,
   "metadata": {},
   "outputs": [],
   "source": [
    "import turicreate as tc\n",
    "import matplotlib.pyplot as plt"
   ]
  },
  {
   "cell_type": "code",
   "execution_count": null,
   "metadata": {},
   "outputs": [],
   "source": [
    "train_data = tc.image_analysis.load_images(\"snacks/train\", with_path=True)\n",
    "len(train_data)"
   ]
  },
  {
   "cell_type": "code",
   "execution_count": null,
   "metadata": {},
   "outputs": [],
   "source": [
    "test_data = tc.image_analysis.load_images(\"snacks/test\", with_path=True)\n",
    "len(test_data)"
   ]
  },
  {
   "cell_type": "code",
   "execution_count": null,
   "metadata": {},
   "outputs": [],
   "source": [
    "import os\n",
    "train_data[\"label\"] = train_data[\"path\"].apply(lambda path: \n",
    "                                               os.path.basename(os.path.split(path)[0]))\n",
    "test_data[\"label\"] = test_data[\"path\"].apply(lambda path: \n",
    "                                             os.path.basename(os.path.split(path)[0]))\n",
    "train_data[\"label\"].value_counts().print_rows(num_rows=20)\n",
    "test_data[\"label\"].value_counts().print_rows(num_rows=20)"
   ]
  },
  {
   "cell_type": "markdown",
   "metadata": {},
   "source": [
    "Run the next cell to train the model.\n",
    "\n",
    "**OR**\n",
    "\n",
    "Run the cell **after** the next cell, to load the model from the `starter/notebook` folder."
   ]
  },
  {
   "cell_type": "code",
   "execution_count": null,
   "metadata": {},
   "outputs": [],
   "source": [
    "# Train the image classifier\n",
    "model = tc.image_classifier.create(train_data, target=\"label\", \n",
    "                                   model=\"squeezenet_v1.1\",\n",
    "                                   verbose=True, max_iterations=100)"
   ]
  },
  {
   "cell_type": "code",
   "execution_count": null,
   "metadata": {},
   "outputs": [],
   "source": [
    "# OR load HealthySnacks.model from starter/notebook folder\n",
    "model = tc.load_model(\"HealthySnacks.model\")"
   ]
  },
  {
   "cell_type": "markdown",
   "metadata": {},
   "source": [
    "Continue with trained or loaded model."
   ]
  },
  {
   "cell_type": "code",
   "execution_count": null,
   "metadata": {},
   "outputs": [],
   "source": [
    "metrics = model.evaluate(test_data)\n",
    "print(\"Accuracy: \", metrics[\"accuracy\"])\n",
    "print(\"Precision: \", metrics[\"precision\"])\n",
    "print(\"Recall: \", metrics[\"recall\"])"
   ]
  }
 ],
 "metadata": {
  "kernelspec": {
   "display_name": "Python 3",
   "language": "python",
   "name": "python3"
  },
  "language_info": {
   "codemirror_mode": {
    "name": "ipython",
    "version": 3
   },
   "file_extension": ".py",
   "mimetype": "text/x-python",
   "name": "python",
   "nbconvert_exporter": "python",
   "pygments_lexer": "ipython3",
   "version": "3.6.5"
  }
 },
 "nbformat": 4,
 "nbformat_minor": 2
}
