{
 "cells": [
  {
   "cell_type": "code",
   "execution_count": 1,
   "metadata": {},
   "outputs": [
    {
     "name": "stderr",
     "output_type": "stream",
     "text": [
      "/Users/matthijs/Documents/bookenv/lib/python3.6/site-packages/h5py/__init__.py:36: FutureWarning: Conversion of the second argument of issubdtype from `float` to `np.floating` is deprecated. In future, it will be treated as `np.float64 == np.dtype(float).type`.\n",
      "  from ._conv import register_converters as _register_converters\n"
     ]
    }
   ],
   "source": [
    "import turicreate as tc"
   ]
  },
  {
   "cell_type": "code",
   "execution_count": 2,
   "metadata": {},
   "outputs": [
    {
     "data": {
      "text/html": [
       "<pre>Unsupported image format. Supported formats are JPEG and PNG\t file: /Users/matthijs/Desktop/snacks/train/.DS_Store</pre>"
      ],
      "text/plain": [
       "Unsupported image format. Supported formats are JPEG and PNG\t file: /Users/matthijs/Desktop/snacks/train/.DS_Store"
      ]
     },
     "metadata": {},
     "output_type": "display_data"
    }
   ],
   "source": [
    "train_data = tc.image_analysis.load_images(\"dataset/snacks/train\", with_path=True)"
   ]
  },
  {
   "cell_type": "code",
   "execution_count": 3,
   "metadata": {},
   "outputs": [
    {
     "data": {
      "text/plain": [
       "4838"
      ]
     },
     "execution_count": 3,
     "metadata": {},
     "output_type": "execute_result"
    }
   ],
   "source": [
    "len(train_data)"
   ]
  },
  {
   "cell_type": "code",
   "execution_count": 4,
   "metadata": {},
   "outputs": [
    {
     "data": {
      "text/html": [
       "<div style=\"max-height:1000px;max-width:1500px;overflow:auto;\"><table frame=\"box\" rules=\"cols\">\n",
       "    <tr>\n",
       "        <th style=\"padding-left: 1em; padding-right: 1em; text-align: center\">path</th>\n",
       "        <th style=\"padding-left: 1em; padding-right: 1em; text-align: center\">image</th>\n",
       "    </tr>\n",
       "    <tr>\n",
       "        <td style=\"padding-left: 1em; padding-right: 1em; text-align: center; vertical-align: top\">/Users/matthijs/Desktop/s<br>nacks/train/apple/007 ...</td>\n",
       "        <td style=\"padding-left: 1em; padding-right: 1em; text-align: center; vertical-align: top\">Height: 341 Width: 256</td>\n",
       "    </tr>\n",
       "    <tr>\n",
       "        <td style=\"padding-left: 1em; padding-right: 1em; text-align: center; vertical-align: top\">/Users/matthijs/Desktop/s<br>nacks/train/apple/007 ...</td>\n",
       "        <td style=\"padding-left: 1em; padding-right: 1em; text-align: center; vertical-align: top\">Height: 256 Width: 341</td>\n",
       "    </tr>\n",
       "    <tr>\n",
       "        <td style=\"padding-left: 1em; padding-right: 1em; text-align: center; vertical-align: top\">/Users/matthijs/Desktop/s<br>nacks/train/apple/008 ...</td>\n",
       "        <td style=\"padding-left: 1em; padding-right: 1em; text-align: center; vertical-align: top\">Height: 256 Width: 384</td>\n",
       "    </tr>\n",
       "    <tr>\n",
       "        <td style=\"padding-left: 1em; padding-right: 1em; text-align: center; vertical-align: top\">/Users/matthijs/Desktop/s<br>nacks/train/apple/00b ...</td>\n",
       "        <td style=\"padding-left: 1em; padding-right: 1em; text-align: center; vertical-align: top\">Height: 256 Width: 341</td>\n",
       "    </tr>\n",
       "    <tr>\n",
       "        <td style=\"padding-left: 1em; padding-right: 1em; text-align: center; vertical-align: top\">/Users/matthijs/Desktop/s<br>nacks/train/apple/00c ...</td>\n",
       "        <td style=\"padding-left: 1em; padding-right: 1em; text-align: center; vertical-align: top\">Height: 256 Width: 341</td>\n",
       "    </tr>\n",
       "    <tr>\n",
       "        <td style=\"padding-left: 1em; padding-right: 1em; text-align: center; vertical-align: top\">/Users/matthijs/Desktop/s<br>nacks/train/apple/014 ...</td>\n",
       "        <td style=\"padding-left: 1em; padding-right: 1em; text-align: center; vertical-align: top\">Height: 256 Width: 382</td>\n",
       "    </tr>\n",
       "    <tr>\n",
       "        <td style=\"padding-left: 1em; padding-right: 1em; text-align: center; vertical-align: top\">/Users/matthijs/Desktop/s<br>nacks/train/apple/018 ...</td>\n",
       "        <td style=\"padding-left: 1em; padding-right: 1em; text-align: center; vertical-align: top\">Height: 256 Width: 256</td>\n",
       "    </tr>\n",
       "    <tr>\n",
       "        <td style=\"padding-left: 1em; padding-right: 1em; text-align: center; vertical-align: top\">/Users/matthijs/Desktop/s<br>nacks/train/apple/019 ...</td>\n",
       "        <td style=\"padding-left: 1em; padding-right: 1em; text-align: center; vertical-align: top\">Height: 256 Width: 256</td>\n",
       "    </tr>\n",
       "    <tr>\n",
       "        <td style=\"padding-left: 1em; padding-right: 1em; text-align: center; vertical-align: top\">/Users/matthijs/Desktop/s<br>nacks/train/apple/01e ...</td>\n",
       "        <td style=\"padding-left: 1em; padding-right: 1em; text-align: center; vertical-align: top\">Height: 256 Width: 446</td>\n",
       "    </tr>\n",
       "    <tr>\n",
       "        <td style=\"padding-left: 1em; padding-right: 1em; text-align: center; vertical-align: top\">/Users/matthijs/Desktop/s<br>nacks/train/apple/021 ...</td>\n",
       "        <td style=\"padding-left: 1em; padding-right: 1em; text-align: center; vertical-align: top\">Height: 256 Width: 341</td>\n",
       "    </tr>\n",
       "</table>\n",
       "[10 rows x 2 columns]<br/>\n",
       "</div>"
      ],
      "text/plain": [
       "Columns:\n",
       "\tpath\tstr\n",
       "\timage\tImage\n",
       "\n",
       "Rows: 10\n",
       "\n",
       "Data:\n",
       "+-------------------------------+------------------------+\n",
       "|              path             |         image          |\n",
       "+-------------------------------+------------------------+\n",
       "| /Users/matthijs/Desktop/sn... | Height: 341 Width: 256 |\n",
       "| /Users/matthijs/Desktop/sn... | Height: 256 Width: 341 |\n",
       "| /Users/matthijs/Desktop/sn... | Height: 256 Width: 384 |\n",
       "| /Users/matthijs/Desktop/sn... | Height: 256 Width: 341 |\n",
       "| /Users/matthijs/Desktop/sn... | Height: 256 Width: 341 |\n",
       "| /Users/matthijs/Desktop/sn... | Height: 256 Width: 382 |\n",
       "| /Users/matthijs/Desktop/sn... | Height: 256 Width: 256 |\n",
       "| /Users/matthijs/Desktop/sn... | Height: 256 Width: 256 |\n",
       "| /Users/matthijs/Desktop/sn... | Height: 256 Width: 446 |\n",
       "| /Users/matthijs/Desktop/sn... | Height: 256 Width: 341 |\n",
       "+-------------------------------+------------------------+\n",
       "[10 rows x 2 columns]"
      ]
     },
     "execution_count": 4,
     "metadata": {},
     "output_type": "execute_result"
    }
   ],
   "source": [
    "train_data.head()"
   ]
  },
  {
   "cell_type": "code",
   "execution_count": 5,
   "metadata": {},
   "outputs": [
    {
     "data": {
      "text/html": [
       "<pre>Materializing SFrame...</pre>"
      ],
      "text/plain": [
       "Materializing SFrame..."
      ]
     },
     "metadata": {},
     "output_type": "display_data"
    },
    {
     "data": {
      "text/html": [
       "<pre>Done.</pre>"
      ],
      "text/plain": [
       "Done."
      ]
     },
     "metadata": {},
     "output_type": "display_data"
    }
   ],
   "source": [
    "train_data.explore()"
   ]
  },
  {
   "cell_type": "code",
   "execution_count": 6,
   "metadata": {},
   "outputs": [],
   "source": [
    "%matplotlib inline\n",
    "import matplotlib.pyplot as plt"
   ]
  },
  {
   "cell_type": "code",
   "execution_count": 7,
   "metadata": {},
   "outputs": [
    {
     "data": {
      "text/plain": [
       "<matplotlib.image.AxesImage at 0x103b11ac8>"
      ]
     },
     "execution_count": 7,
     "metadata": {},
     "output_type": "execute_result"
    },
    {
     "data": {
      "image/png": "[encoded data removed]",
      "text/plain": [
       "<matplotlib.figure.Figure at 0x111a79b70>"
      ]
     },
     "metadata": {},
     "output_type": "display_data"
    }
   ],
   "source": [
    "plt.imshow(train_data[0][\"image\"].pixel_data)"
   ]
  },
  {
   "cell_type": "code",
   "execution_count": 8,
   "metadata": {},
   "outputs": [
    {
     "name": "stdout",
     "output_type": "stream",
     "text": [
      "/Users/matthijs/Desktop/snacks/train/apple/007a0bec00a90a66.jpg\n"
     ]
    },
    {
     "data": {
      "text/plain": [
       "'apple'"
      ]
     },
     "execution_count": 8,
     "metadata": {},
     "output_type": "execute_result"
    }
   ],
   "source": [
    "# Grab the full path of the first training example\n",
    "path = train_data[0][\"path\"]\n",
    "print(path)\n",
    "\n",
    "# Find the class label\n",
    "import os\n",
    "os.path.basename(os.path.split(path)[0])"
   ]
  },
  {
   "cell_type": "code",
   "execution_count": 9,
   "metadata": {},
   "outputs": [],
   "source": [
    "train_data[\"label\"] = train_data[\"path\"].apply(lambda path: \n",
    "                                               os.path.basename(os.path.split(path)[0]))"
   ]
  },
  {
   "cell_type": "code",
   "execution_count": 10,
   "metadata": {},
   "outputs": [
    {
     "data": {
      "text/html": [
       "<div style=\"max-height:1000px;max-width:1500px;overflow:auto;\"><table frame=\"box\" rules=\"cols\">\n",
       "    <tr>\n",
       "        <th style=\"padding-left: 1em; padding-right: 1em; text-align: center\">path</th>\n",
       "        <th style=\"padding-left: 1em; padding-right: 1em; text-align: center\">image</th>\n",
       "        <th style=\"padding-left: 1em; padding-right: 1em; text-align: center\">label</th>\n",
       "    </tr>\n",
       "    <tr>\n",
       "        <td style=\"padding-left: 1em; padding-right: 1em; text-align: center; vertical-align: top\">/Users/matthijs/Desktop/s<br>nacks/train/apple/007 ...</td>\n",
       "        <td style=\"padding-left: 1em; padding-right: 1em; text-align: center; vertical-align: top\">Height: 341 Width: 256</td>\n",
       "        <td style=\"padding-left: 1em; padding-right: 1em; text-align: center; vertical-align: top\">apple</td>\n",
       "    </tr>\n",
       "    <tr>\n",
       "        <td style=\"padding-left: 1em; padding-right: 1em; text-align: center; vertical-align: top\">/Users/matthijs/Desktop/s<br>nacks/train/apple/007 ...</td>\n",
       "        <td style=\"padding-left: 1em; padding-right: 1em; text-align: center; vertical-align: top\">Height: 256 Width: 341</td>\n",
       "        <td style=\"padding-left: 1em; padding-right: 1em; text-align: center; vertical-align: top\">apple</td>\n",
       "    </tr>\n",
       "    <tr>\n",
       "        <td style=\"padding-left: 1em; padding-right: 1em; text-align: center; vertical-align: top\">/Users/matthijs/Desktop/s<br>nacks/train/apple/008 ...</td>\n",
       "        <td style=\"padding-left: 1em; padding-right: 1em; text-align: center; vertical-align: top\">Height: 256 Width: 384</td>\n",
       "        <td style=\"padding-left: 1em; padding-right: 1em; text-align: center; vertical-align: top\">apple</td>\n",
       "    </tr>\n",
       "    <tr>\n",
       "        <td style=\"padding-left: 1em; padding-right: 1em; text-align: center; vertical-align: top\">/Users/matthijs/Desktop/s<br>nacks/train/apple/00b ...</td>\n",
       "        <td style=\"padding-left: 1em; padding-right: 1em; text-align: center; vertical-align: top\">Height: 256 Width: 341</td>\n",
       "        <td style=\"padding-left: 1em; padding-right: 1em; text-align: center; vertical-align: top\">apple</td>\n",
       "    </tr>\n",
       "    <tr>\n",
       "        <td style=\"padding-left: 1em; padding-right: 1em; text-align: center; vertical-align: top\">/Users/matthijs/Desktop/s<br>nacks/train/apple/00c ...</td>\n",
       "        <td style=\"padding-left: 1em; padding-right: 1em; text-align: center; vertical-align: top\">Height: 256 Width: 341</td>\n",
       "        <td style=\"padding-left: 1em; padding-right: 1em; text-align: center; vertical-align: top\">apple</td>\n",
       "    </tr>\n",
       "    <tr>\n",
       "        <td style=\"padding-left: 1em; padding-right: 1em; text-align: center; vertical-align: top\">/Users/matthijs/Desktop/s<br>nacks/train/apple/014 ...</td>\n",
       "        <td style=\"padding-left: 1em; padding-right: 1em; text-align: center; vertical-align: top\">Height: 256 Width: 382</td>\n",
       "        <td style=\"padding-left: 1em; padding-right: 1em; text-align: center; vertical-align: top\">apple</td>\n",
       "    </tr>\n",
       "    <tr>\n",
       "        <td style=\"padding-left: 1em; padding-right: 1em; text-align: center; vertical-align: top\">/Users/matthijs/Desktop/s<br>nacks/train/apple/018 ...</td>\n",
       "        <td style=\"padding-left: 1em; padding-right: 1em; text-align: center; vertical-align: top\">Height: 256 Width: 256</td>\n",
       "        <td style=\"padding-left: 1em; padding-right: 1em; text-align: center; vertical-align: top\">apple</td>\n",
       "    </tr>\n",
       "    <tr>\n",
       "        <td style=\"padding-left: 1em; padding-right: 1em; text-align: center; vertical-align: top\">/Users/matthijs/Desktop/s<br>nacks/train/apple/019 ...</td>\n",
       "        <td style=\"padding-left: 1em; padding-right: 1em; text-align: center; vertical-align: top\">Height: 256 Width: 256</td>\n",
       "        <td style=\"padding-left: 1em; padding-right: 1em; text-align: center; vertical-align: top\">apple</td>\n",
       "    </tr>\n",
       "    <tr>\n",
       "        <td style=\"padding-left: 1em; padding-right: 1em; text-align: center; vertical-align: top\">/Users/matthijs/Desktop/s<br>nacks/train/apple/01e ...</td>\n",
       "        <td style=\"padding-left: 1em; padding-right: 1em; text-align: center; vertical-align: top\">Height: 256 Width: 446</td>\n",
       "        <td style=\"padding-left: 1em; padding-right: 1em; text-align: center; vertical-align: top\">apple</td>\n",
       "    </tr>\n",
       "    <tr>\n",
       "        <td style=\"padding-left: 1em; padding-right: 1em; text-align: center; vertical-align: top\">/Users/matthijs/Desktop/s<br>nacks/train/apple/021 ...</td>\n",
       "        <td style=\"padding-left: 1em; padding-right: 1em; text-align: center; vertical-align: top\">Height: 256 Width: 341</td>\n",
       "        <td style=\"padding-left: 1em; padding-right: 1em; text-align: center; vertical-align: top\">apple</td>\n",
       "    </tr>\n",
       "</table>\n",
       "[10 rows x 3 columns]<br/>\n",
       "</div>"
      ],
      "text/plain": [
       "Columns:\n",
       "\tpath\tstr\n",
       "\timage\tImage\n",
       "\tlabel\tstr\n",
       "\n",
       "Rows: 10\n",
       "\n",
       "Data:\n",
       "+-------------------------------+------------------------+-------+\n",
       "|              path             |         image          | label |\n",
       "+-------------------------------+------------------------+-------+\n",
       "| /Users/matthijs/Desktop/sn... | Height: 341 Width: 256 | apple |\n",
       "| /Users/matthijs/Desktop/sn... | Height: 256 Width: 341 | apple |\n",
       "| /Users/matthijs/Desktop/sn... | Height: 256 Width: 384 | apple |\n",
       "| /Users/matthijs/Desktop/sn... | Height: 256 Width: 341 | apple |\n",
       "| /Users/matthijs/Desktop/sn... | Height: 256 Width: 341 | apple |\n",
       "| /Users/matthijs/Desktop/sn... | Height: 256 Width: 382 | apple |\n",
       "| /Users/matthijs/Desktop/sn... | Height: 256 Width: 256 | apple |\n",
       "| /Users/matthijs/Desktop/sn... | Height: 256 Width: 256 | apple |\n",
       "| /Users/matthijs/Desktop/sn... | Height: 256 Width: 446 | apple |\n",
       "| /Users/matthijs/Desktop/sn... | Height: 256 Width: 341 | apple |\n",
       "+-------------------------------+------------------------+-------+\n",
       "[10 rows x 3 columns]"
      ]
     },
     "execution_count": 10,
     "metadata": {},
     "output_type": "execute_result"
    }
   ],
   "source": [
    "train_data.head() "
   ]
  },
  {
   "cell_type": "code",
   "execution_count": 11,
   "metadata": {},
   "outputs": [
    {
     "data": {
      "text/plain": [
       "\n",
       "+------------------+-------+----------+\n",
       "|       item       | value | is exact |\n",
       "+------------------+-------+----------+\n",
       "|      Length      |  4838 |   Yes    |\n",
       "| # Missing Values |   0   |   Yes    |\n",
       "| # unique values  |   20  |    No    |\n",
       "+------------------+-------+----------+\n",
       "\n",
       "Most frequent items:\n",
       "+-------+-----------+-------+--------+----------+-------+---------+-----------+\n",
       "| value | pineapple | apple | banana | doughnut | grape | hot dog | ice cream |\n",
       "+-------+-----------+-------+--------+----------+-------+---------+-----------+\n",
       "| count |    260    |  250  |  250   |   250    |  250  |   250   |    250    |\n",
       "+-------+-----------+-------+--------+----------+-------+---------+-----------+\n",
       "+-------+--------+-------+\n",
       "| juice | muffin | salad |\n",
       "+-------+--------+-------+\n",
       "|  250  |  250   |  250  |\n",
       "+-------+--------+-------+\n"
      ]
     },
     "execution_count": 11,
     "metadata": {},
     "output_type": "execute_result"
    }
   ],
   "source": [
    "train_data[\"label\"].summary()"
   ]
  },
  {
   "cell_type": "code",
   "execution_count": 12,
   "metadata": {},
   "outputs": [
    {
     "name": "stdout",
     "output_type": "stream",
     "text": [
      "+------------+-------+\n",
      "|   value    | count |\n",
      "+------------+-------+\n",
      "| pineapple  |  260  |\n",
      "|   juice    |  250  |\n",
      "|   banana   |  250  |\n",
      "|   apple    |  250  |\n",
      "|  doughnut  |  250  |\n",
      "| watermelon |  250  |\n",
      "|   waffle   |  250  |\n",
      "|   muffin   |  250  |\n",
      "|   salad    |  250  |\n",
      "| ice cream  |  250  |\n",
      "|  hot dog   |  250  |\n",
      "|   grape    |  250  |\n",
      "|   carrot   |  249  |\n",
      "|    cake    |  249  |\n",
      "|   cookie   |  249  |\n",
      "|   orange   |  249  |\n",
      "|   candy    |  249  |\n",
      "| strawberry |  249  |\n",
      "|  popcorn   |  180  |\n",
      "|  pretzel   |  154  |\n",
      "+------------+-------+\n",
      "[20 rows x 2 columns]\n",
      "\n"
     ]
    }
   ],
   "source": [
    "train_data[\"label\"].value_counts().print_rows(num_rows=20)"
   ]
  },
  {
   "cell_type": "code",
   "execution_count": 13,
   "metadata": {},
   "outputs": [
    {
     "name": "stdout",
     "output_type": "stream",
     "text": [
      "Resizing images...\n",
      "Performing feature extraction on resized images...\n",
      "Completed  512/4838\n",
      "Completed 1024/4838\n",
      "Completed 1536/4838\n",
      "Completed 2048/4838\n",
      "Completed 2560/4838\n",
      "Completed 3072/4838\n",
      "Completed 3584/4838\n",
      "Completed 4096/4838\n",
      "Completed 4608/4838\n",
      "Completed 4838/4838\n",
      "PROGRESS: Creating a validation set from 5 percent of training data. This may take a while.\n",
      "          You can set ``validation_set=None`` to disable validation tracking.\n",
      "\n"
     ]
    },
    {
     "data": {
      "text/html": [
       "<pre>Logistic regression:</pre>"
      ],
      "text/plain": [
       "Logistic regression:"
      ]
     },
     "metadata": {},
     "output_type": "display_data"
    },
    {
     "data": {
      "text/html": [
       "<pre>--------------------------------------------------------</pre>"
      ],
      "text/plain": [
       "--------------------------------------------------------"
      ]
     },
     "metadata": {},
     "output_type": "display_data"
    },
    {
     "data": {
      "text/html": [
       "<pre>Number of examples          : 4582</pre>"
      ],
      "text/plain": [
       "Number of examples          : 4582"
      ]
     },
     "metadata": {},
     "output_type": "display_data"
    },
    {
     "data": {
      "text/html": [
       "<pre>Number of classes           : 20</pre>"
      ],
      "text/plain": [
       "Number of classes           : 20"
      ]
     },
     "metadata": {},
     "output_type": "display_data"
    },
    {
     "data": {
      "text/html": [
       "<pre>Number of feature columns   : 1</pre>"
      ],
      "text/plain": [
       "Number of feature columns   : 1"
      ]
     },
     "metadata": {},
     "output_type": "display_data"
    },
    {
     "data": {
      "text/html": [
       "<pre>Number of unpacked features : 1000</pre>"
      ],
      "text/plain": [
       "Number of unpacked features : 1000"
      ]
     },
     "metadata": {},
     "output_type": "display_data"
    },
    {
     "data": {
      "text/html": [
       "<pre>Number of coefficients      : 19019</pre>"
      ],
      "text/plain": [
       "Number of coefficients      : 19019"
      ]
     },
     "metadata": {},
     "output_type": "display_data"
    },
    {
     "data": {
      "text/html": [
       "<pre>Starting L-BFGS</pre>"
      ],
      "text/plain": [
       "Starting L-BFGS"
      ]
     },
     "metadata": {},
     "output_type": "display_data"
    },
    {
     "data": {
      "text/html": [
       "<pre>--------------------------------------------------------</pre>"
      ],
      "text/plain": [
       "--------------------------------------------------------"
      ]
     },
     "metadata": {},
     "output_type": "display_data"
    },
    {
     "data": {
      "text/html": [
       "<pre>+-----------+----------+-----------+--------------+-------------------+---------------------+</pre>"
      ],
      "text/plain": [
       "+-----------+----------+-----------+--------------+-------------------+---------------------+"
      ]
     },
     "metadata": {},
     "output_type": "display_data"
    },
    {
     "data": {
      "text/html": [
       "<pre>| Iteration | Passes   | Step size | Elapsed Time | Training-accuracy | Validation-accuracy |</pre>"
      ],
      "text/plain": [
       "| Iteration | Passes   | Step size | Elapsed Time | Training-accuracy | Validation-accuracy |"
      ]
     },
     "metadata": {},
     "output_type": "display_data"
    },
    {
     "data": {
      "text/html": [
       "<pre>+-----------+----------+-----------+--------------+-------------------+---------------------+</pre>"
      ],
      "text/plain": [
       "+-----------+----------+-----------+--------------+-------------------+---------------------+"
      ]
     },
     "metadata": {},
     "output_type": "display_data"
    },
    {
     "data": {
      "text/html": [
       "<pre>| 1         | 6        | 0.000015  | 2.195721     | 0.088608          | 0.082031            |</pre>"
      ],
      "text/plain": [
       "| 1         | 6        | 0.000015  | 2.195721     | 0.088608          | 0.082031            |"
      ]
     },
     "metadata": {},
     "output_type": "display_data"
    },
    {
     "data": {
      "text/html": [
       "<pre>| 2         | 9        | 5.000000  | 2.987089     | 0.195984          | 0.171875            |</pre>"
      ],
      "text/plain": [
       "| 2         | 9        | 5.000000  | 2.987089     | 0.195984          | 0.171875            |"
      ]
     },
     "metadata": {},
     "output_type": "display_data"
    },
    {
     "data": {
      "text/html": [
       "<pre>| 3         | 10       | 5.000000  | 3.287738     | 0.268660          | 0.265625            |</pre>"
      ],
      "text/plain": [
       "| 3         | 10       | 5.000000  | 3.287738     | 0.268660          | 0.265625            |"
      ]
     },
     "metadata": {},
     "output_type": "display_data"
    },
    {
     "data": {
      "text/html": [
       "<pre>| 4         | 11       | 5.000000  | 3.612181     | 0.341990          | 0.332031            |</pre>"
      ],
      "text/plain": [
       "| 4         | 11       | 5.000000  | 3.612181     | 0.341990          | 0.332031            |"
      ]
     },
     "metadata": {},
     "output_type": "display_data"
    },
    {
     "data": {
      "text/html": [
       "<pre>| 5         | 13       | 1.000000  | 4.107007     | 0.363597          | 0.343750            |</pre>"
      ],
      "text/plain": [
       "| 5         | 13       | 1.000000  | 4.107007     | 0.363597          | 0.343750            |"
      ]
     },
     "metadata": {},
     "output_type": "display_data"
    },
    {
     "data": {
      "text/html": [
       "<pre>| 6         | 14       | 1.000000  | 4.407383     | 0.390441          | 0.414062            |</pre>"
      ],
      "text/plain": [
       "| 6         | 14       | 1.000000  | 4.407383     | 0.390441          | 0.414062            |"
      ]
     },
     "metadata": {},
     "output_type": "display_data"
    },
    {
     "data": {
      "text/html": [
       "<pre>| 10        | 19       | 1.000000  | 5.861728     | 0.421213          | 0.417969            |</pre>"
      ],
      "text/plain": [
       "| 10        | 19       | 1.000000  | 5.861728     | 0.421213          | 0.417969            |"
      ]
     },
     "metadata": {},
     "output_type": "display_data"
    },
    {
     "data": {
      "text/html": [
       "<pre>| 11        | 20       | 1.000000  | 6.161917     | 0.428852          | 0.402344            |</pre>"
      ],
      "text/plain": [
       "| 11        | 20       | 1.000000  | 6.161917     | 0.428852          | 0.402344            |"
      ]
     },
     "metadata": {},
     "output_type": "display_data"
    },
    {
     "data": {
      "text/html": [
       "<pre>| 15        | 24       | 1.000000  | 7.432235     | 0.392842          | 0.367188            |</pre>"
      ],
      "text/plain": [
       "| 15        | 24       | 1.000000  | 7.432235     | 0.392842          | 0.367188            |"
      ]
     },
     "metadata": {},
     "output_type": "display_data"
    },
    {
     "data": {
      "text/html": [
       "<pre>| 20        | 33       | 0.250000  | 9.794032     | 0.462025          | 0.468750            |</pre>"
      ],
      "text/plain": [
       "| 20        | 33       | 0.250000  | 9.794032     | 0.462025          | 0.468750            |"
      ]
     },
     "metadata": {},
     "output_type": "display_data"
    },
    {
     "data": {
      "text/html": [
       "<pre>| 25        | 38       | 0.250000  | 11.460269    | 0.511349          | 0.511719            |</pre>"
      ],
      "text/plain": [
       "| 25        | 38       | 0.250000  | 11.460269    | 0.511349          | 0.511719            |"
      ]
     },
     "metadata": {},
     "output_type": "display_data"
    },
    {
     "data": {
      "text/html": [
       "<pre>| 30        | 43       | 0.250000  | 13.204167    | 0.573549          | 0.558594            |</pre>"
      ],
      "text/plain": [
       "| 30        | 43       | 0.250000  | 13.204167    | 0.573549          | 0.558594            |"
      ]
     },
     "metadata": {},
     "output_type": "display_data"
    },
    {
     "data": {
      "text/html": [
       "<pre>| 35        | 48       | 0.250000  | 14.808004    | 0.585552          | 0.566406            |</pre>"
      ],
      "text/plain": [
       "| 35        | 48       | 0.250000  | 14.808004    | 0.585552          | 0.566406            |"
      ]
     },
     "metadata": {},
     "output_type": "display_data"
    },
    {
     "data": {
      "text/html": [
       "<pre>| 40        | 53       | 0.250000  | 16.398597    | 0.609123          | 0.574219            |</pre>"
      ],
      "text/plain": [
       "| 40        | 53       | 0.250000  | 16.398597    | 0.609123          | 0.574219            |"
      ]
     },
     "metadata": {},
     "output_type": "display_data"
    },
    {
     "data": {
      "text/html": [
       "<pre>| 45        | 58       | 0.250000  | 18.102218    | 0.618725          | 0.625000            |</pre>"
      ],
      "text/plain": [
       "| 45        | 58       | 0.250000  | 18.102218    | 0.618725          | 0.625000            |"
      ]
     },
     "metadata": {},
     "output_type": "display_data"
    },
    {
     "data": {
      "text/html": [
       "<pre>| 50        | 63       | 0.250000  | 19.629459    | 0.647097          | 0.632812            |</pre>"
      ],
      "text/plain": [
       "| 50        | 63       | 0.250000  | 19.629459    | 0.647097          | 0.632812            |"
      ]
     },
     "metadata": {},
     "output_type": "display_data"
    },
    {
     "data": {
      "text/html": [
       "<pre>| 51        | 64       | 0.250000  | 20.028970    | 0.649062          | 0.640625            |</pre>"
      ],
      "text/plain": [
       "| 51        | 64       | 0.250000  | 20.028970    | 0.649062          | 0.640625            |"
      ]
     },
     "metadata": {},
     "output_type": "display_data"
    },
    {
     "data": {
      "text/html": [
       "<pre>| 55        | 68       | 0.250000  | 21.334287    | 0.663247          | 0.640625            |</pre>"
      ],
      "text/plain": [
       "| 55        | 68       | 0.250000  | 21.334287    | 0.663247          | 0.640625            |"
      ]
     },
     "metadata": {},
     "output_type": "display_data"
    },
    {
     "data": {
      "text/html": [
       "<pre>| 60        | 73       | 0.250000  | 23.021279    | 0.684417          | 0.644531            |</pre>"
      ],
      "text/plain": [
       "| 60        | 73       | 0.250000  | 23.021279    | 0.684417          | 0.644531            |"
      ]
     },
     "metadata": {},
     "output_type": "display_data"
    },
    {
     "data": {
      "text/html": [
       "<pre>| 65        | 78       | 0.250000  | 24.600928    | 0.701222          | 0.652344            |</pre>"
      ],
      "text/plain": [
       "| 65        | 78       | 0.250000  | 24.600928    | 0.701222          | 0.652344            |"
      ]
     },
     "metadata": {},
     "output_type": "display_data"
    },
    {
     "data": {
      "text/html": [
       "<pre>| 70        | 83       | 0.250000  | 26.177696    | 0.714535          | 0.671875            |</pre>"
      ],
      "text/plain": [
       "| 70        | 83       | 0.250000  | 26.177696    | 0.714535          | 0.671875            |"
      ]
     },
     "metadata": {},
     "output_type": "display_data"
    },
    {
     "data": {
      "text/html": [
       "<pre>| 75        | 88       | 0.250000  | 27.757086    | 0.725884          | 0.683594            |</pre>"
      ],
      "text/plain": [
       "| 75        | 88       | 0.250000  | 27.757086    | 0.725884          | 0.683594            |"
      ]
     },
     "metadata": {},
     "output_type": "display_data"
    },
    {
     "data": {
      "text/html": [
       "<pre>| 80        | 93       | 0.250000  | 29.367728    | 0.733086          | 0.667969            |</pre>"
      ],
      "text/plain": [
       "| 80        | 93       | 0.250000  | 29.367728    | 0.733086          | 0.667969            |"
      ]
     },
     "metadata": {},
     "output_type": "display_data"
    },
    {
     "data": {
      "text/html": [
       "<pre>| 85        | 98       | 0.250000  | 31.140373    | 0.740070          | 0.656250            |</pre>"
      ],
      "text/plain": [
       "| 85        | 98       | 0.250000  | 31.140373    | 0.740070          | 0.656250            |"
      ]
     },
     "metadata": {},
     "output_type": "display_data"
    },
    {
     "data": {
      "text/html": [
       "<pre>| 90        | 103      | 0.250000  | 32.670343    | 0.744653          | 0.671875            |</pre>"
      ],
      "text/plain": [
       "| 90        | 103      | 0.250000  | 32.670343    | 0.744653          | 0.671875            |"
      ]
     },
     "metadata": {},
     "output_type": "display_data"
    },
    {
     "data": {
      "text/html": [
       "<pre>| 95        | 108      | 0.250000  | 34.270048    | 0.750327          | 0.675781            |</pre>"
      ],
      "text/plain": [
       "| 95        | 108      | 0.250000  | 34.270048    | 0.750327          | 0.675781            |"
      ]
     },
     "metadata": {},
     "output_type": "display_data"
    },
    {
     "data": {
      "text/html": [
       "<pre>| 100       | 113      | 0.250000  | 35.821897    | 0.757311          | 0.664062            |</pre>"
      ],
      "text/plain": [
       "| 100       | 113      | 0.250000  | 35.821897    | 0.757311          | 0.664062            |"
      ]
     },
     "metadata": {},
     "output_type": "display_data"
    },
    {
     "data": {
      "text/html": [
       "<pre>+-----------+----------+-----------+--------------+-------------------+---------------------+</pre>"
      ],
      "text/plain": [
       "+-----------+----------+-----------+--------------+-------------------+---------------------+"
      ]
     },
     "metadata": {},
     "output_type": "display_data"
    },
    {
     "data": {
      "text/html": [
       "<pre>TERMINATED: Iteration limit reached.</pre>"
      ],
      "text/plain": [
       "TERMINATED: Iteration limit reached."
      ]
     },
     "metadata": {},
     "output_type": "display_data"
    },
    {
     "data": {
      "text/html": [
       "<pre>This model may not be optimal. To improve it, consider increasing `max_iterations`.</pre>"
      ],
      "text/plain": [
       "This model may not be optimal. To improve it, consider increasing `max_iterations`."
      ]
     },
     "metadata": {},
     "output_type": "display_data"
    }
   ],
   "source": [
    "model = tc.image_classifier.create(train_data, target=\"label\", \n",
    "                                   model=\"squeezenet_v1.1\",\n",
    "                                   verbose=True, max_iterations=100)"
   ]
  },
  {
   "cell_type": "code",
   "execution_count": 17,
   "metadata": {},
   "outputs": [],
   "source": [
    "test_data = tc.image_analysis.load_images(\"dataset/snacks/test\", with_path=True)\n",
    "\n",
    "test_data[\"label\"] = test_data[\"path\"].apply(lambda path: \n",
    "       os.path.basename(os.path.split(path)[0]))"
   ]
  },
  {
   "cell_type": "code",
   "execution_count": 18,
   "metadata": {},
   "outputs": [
    {
     "data": {
      "text/plain": [
       "952"
      ]
     },
     "execution_count": 18,
     "metadata": {},
     "output_type": "execute_result"
    }
   ],
   "source": [
    "len(test_data)"
   ]
  },
  {
   "cell_type": "code",
   "execution_count": 19,
   "metadata": {},
   "outputs": [
    {
     "name": "stdout",
     "output_type": "stream",
     "text": [
      "Resizing images...\n",
      "Performing feature extraction on resized images...\n",
      "Completed 512/952\n",
      "Completed 952/952\n"
     ]
    }
   ],
   "source": [
    "metrics = model.evaluate(test_data)"
   ]
  },
  {
   "cell_type": "code",
   "execution_count": 20,
   "metadata": {},
   "outputs": [
    {
     "data": {
      "text/plain": [
       "0.6596638655462185"
      ]
     },
     "execution_count": 20,
     "metadata": {},
     "output_type": "execute_result"
    }
   ],
   "source": [
    "metrics[\"accuracy\"]"
   ]
  },
  {
   "cell_type": "code",
   "execution_count": 21,
   "metadata": {},
   "outputs": [
    {
     "name": "stdout",
     "output_type": "stream",
     "text": [
      "0.6629103020399073\n",
      "0.6553409863945577\n"
     ]
    }
   ],
   "source": [
    "print(metrics[\"precision\"])\n",
    "print(metrics[\"recall\"])"
   ]
  },
  {
   "cell_type": "code",
   "execution_count": 23,
   "metadata": {},
   "outputs": [
    {
     "name": "stdout",
     "output_type": "stream",
     "text": [
      "+--------------+-----------------+-------+\n",
      "| target_label | predicted_label | count |\n",
      "+--------------+-----------------+-------+\n",
      "|    candy     |    strawberry   |   7   |\n",
      "|    grape     |       cake      |   1   |\n",
      "|     cake     |    ice cream    |   2   |\n",
      "|  pineapple   |      carrot     |   1   |\n",
      "|    salad     |      candy      |   1   |\n",
      "|   doughnut   |      juice      |   1   |\n",
      "|    candy     |      carrot     |   1   |\n",
      "|    banana    |    watermelon   |   2   |\n",
      "|     cake     |     pretzel     |   1   |\n",
      "|    banana    |      juice      |   1   |\n",
      "+--------------+-----------------+-------+\n",
      "[207 rows x 3 columns]\n",
      "Note: Only the head of the SFrame is printed.\n",
      "You can use print_rows(num_rows=m, num_columns=n) to print more rows and columns.\n"
     ]
    }
   ],
   "source": [
    "print(metrics[\"confusion_matrix\"])"
   ]
  },
  {
   "cell_type": "code",
   "execution_count": 29,
   "metadata": {},
   "outputs": [],
   "source": [
    "import seaborn as sns\n",
    "import numpy as np\n",
    "\n",
    "def compute_confusion_matrix(metrics, labels):\n",
    "    num_labels = len(labels)\n",
    "    label_to_index = {l:i for i,l in enumerate(labels)}\n",
    "\n",
    "    conf = np.zeros((num_labels, num_labels), dtype=np.int)\n",
    "    for row in metrics[\"confusion_matrix\"]:\n",
    "        true_label = label_to_index[row[\"target_label\"]]\n",
    "        pred_label = label_to_index[row[\"predicted_label\"]]\n",
    "        conf[true_label, pred_label] = row[\"count\"]\n",
    "        \n",
    "    return conf\n",
    "\n",
    "def plot_confusion_matrix(conf, labels, figsize=(8, 8)):\n",
    "    fig = plt.figure(figsize=figsize)\n",
    "    heatmap = sns.heatmap(conf, annot=True, fmt=\"d\")\n",
    "    heatmap.xaxis.set_ticklabels(labels, rotation=45, ha=\"right\", fontsize=12)\n",
    "    heatmap.yaxis.set_ticklabels(labels, rotation=0, ha=\"right\", fontsize=12)\n",
    "    plt.xlabel(\"Predicted label\", fontsize=12)\n",
    "    plt.ylabel(\"True label\", fontsize=12)\n",
    "    plt.show()"
   ]
  },
  {
   "cell_type": "code",
   "execution_count": 30,
   "metadata": {},
   "outputs": [
    {
     "data": {
      "image/png": "[encoded data removed]",
      "text/plain": [
       "<matplotlib.figure.Figure at 0x111b0a7f0>"
      ]
     },
     "metadata": {},
     "output_type": "display_data"
    }
   ],
   "source": [
    "labels = list(test_data[\"label\"].unique())\n",
    "conf = compute_confusion_matrix(metrics, labels)\n",
    "plot_confusion_matrix(conf, labels, figsize=(16, 16))"
   ]
  },
  {
   "cell_type": "code",
   "execution_count": 42,
   "metadata": {},
   "outputs": [
    {
     "name": "stdout",
     "output_type": "stream",
     "text": [
      "   hot dog 78.0%\n",
      "     juice 76.0%\n",
      "    banana 76.0%\n",
      "    orange 70.0%\n",
      "    cookie 62.0%\n",
      "    carrot 68.0%\n",
      "    waffle 64.0%\n",
      "    muffin 47.9%\n",
      "     salad 78.0%\n",
      " ice cream 50.0%\n",
      " pineapple 65.0%\n",
      "     grape 88.0%\n",
      "watermelon 70.0%\n",
      "   pretzel 52.0%\n",
      "  doughnut 68.0%\n",
      "     apple 66.0%\n",
      "   popcorn 62.5%\n",
      "strawberry 63.3%\n",
      "      cake 50.0%\n",
      "     candy 56.0%\n"
     ]
    }
   ],
   "source": [
    "for i, label in enumerate(labels):\n",
    "    images_per_class = conf[i].sum()\n",
    "    correct = conf[i, i]\n",
    "    print(\"%10s %.1f%%\" % (label, 100. * correct/images_per_class))"
   ]
  },
  {
   "cell_type": "code",
   "execution_count": 45,
   "metadata": {},
   "outputs": [],
   "source": [
    "predictions = model.predict(test_data)"
   ]
  },
  {
   "cell_type": "code",
   "execution_count": 46,
   "metadata": {},
   "outputs": [
    {
     "name": "stdout",
     "output_type": "stream",
     "text": [
      "['apple', 'apple', 'orange', 'orange', 'apple', 'apple', 'orange', 'juice', 'watermelon', 'apple', 'apple', 'apple', 'pineapple', 'apple', 'apple', 'pineapple', 'popcorn', 'banana', 'apple', 'apple', 'apple', 'apple', 'apple', 'apple', 'apple', 'pineapple', 'apple', 'apple', 'apple', 'apple', 'doughnut', 'juice', 'apple', 'apple', 'orange', 'grape', 'apple', 'orange', 'apple', 'apple', 'apple', 'orange', 'apple', 'strawberry', 'apple', 'apple', 'apple', 'apple', 'apple', 'apple', 'banana', 'banana', 'pineapple', 'muffin', 'hot dog', 'banana', 'banana', 'banana', 'banana', 'banana', 'banana', 'banana', 'banana', 'banana', 'banana', 'banana', 'hot dog', 'banana', 'apple', 'banana', 'banana', 'muffin', 'banana', 'banana', 'banana', 'banana', 'banana', 'banana', 'juice', 'watermelon', 'hot dog', 'banana', 'banana', 'banana', 'banana', 'banana', 'banana', 'banana', 'banana', 'banana', 'banana', 'watermelon', 'banana', 'banana', 'grape', 'banana', 'ice cream', 'banana', 'banana', 'banana', ... ]\n"
     ]
    }
   ],
   "source": [
    "print(predictions)"
   ]
  },
  {
   "cell_type": "code",
   "execution_count": 47,
   "metadata": {},
   "outputs": [
    {
     "data": {
      "text/plain": [
       "<matplotlib.image.AxesImage at 0x111d69550>"
      ]
     },
     "execution_count": 47,
     "metadata": {},
     "output_type": "execute_result"
    },
    {
     "data": {
      "image/png": "[encoded data removed]",
      "text/plain": [
       "<matplotlib.figure.Figure at 0x114518550>"
      ]
     },
     "metadata": {},
     "output_type": "display_data"
    }
   ],
   "source": [
    "plt.imshow(test_data[0][\"image\"].pixel_data)"
   ]
  },
  {
   "cell_type": "code",
   "execution_count": 48,
   "metadata": {},
   "outputs": [],
   "source": [
    "output = model.classify(test_data)"
   ]
  },
  {
   "cell_type": "code",
   "execution_count": 49,
   "metadata": {},
   "outputs": [
    {
     "data": {
      "text/html": [
       "<div style=\"max-height:1000px;max-width:1500px;overflow:auto;\"><table frame=\"box\" rules=\"cols\">\n",
       "    <tr>\n",
       "        <th style=\"padding-left: 1em; padding-right: 1em; text-align: center\">class</th>\n",
       "        <th style=\"padding-left: 1em; padding-right: 1em; text-align: center\">probability</th>\n",
       "    </tr>\n",
       "    <tr>\n",
       "        <td style=\"padding-left: 1em; padding-right: 1em; text-align: center; vertical-align: top\">apple</td>\n",
       "        <td style=\"padding-left: 1em; padding-right: 1em; text-align: center; vertical-align: top\">0.5738069948000187</td>\n",
       "    </tr>\n",
       "    <tr>\n",
       "        <td style=\"padding-left: 1em; padding-right: 1em; text-align: center; vertical-align: top\">apple</td>\n",
       "        <td style=\"padding-left: 1em; padding-right: 1em; text-align: center; vertical-align: top\">0.6762851870152197</td>\n",
       "    </tr>\n",
       "    <tr>\n",
       "        <td style=\"padding-left: 1em; padding-right: 1em; text-align: center; vertical-align: top\">orange</td>\n",
       "        <td style=\"padding-left: 1em; padding-right: 1em; text-align: center; vertical-align: top\">0.5303395594938812</td>\n",
       "    </tr>\n",
       "    <tr>\n",
       "        <td style=\"padding-left: 1em; padding-right: 1em; text-align: center; vertical-align: top\">orange</td>\n",
       "        <td style=\"padding-left: 1em; padding-right: 1em; text-align: center; vertical-align: top\">0.7461786747353468</td>\n",
       "    </tr>\n",
       "    <tr>\n",
       "        <td style=\"padding-left: 1em; padding-right: 1em; text-align: center; vertical-align: top\">apple</td>\n",
       "        <td style=\"padding-left: 1em; padding-right: 1em; text-align: center; vertical-align: top\">0.3116237754688823</td>\n",
       "    </tr>\n",
       "    <tr>\n",
       "        <td style=\"padding-left: 1em; padding-right: 1em; text-align: center; vertical-align: top\">apple</td>\n",
       "        <td style=\"padding-left: 1em; padding-right: 1em; text-align: center; vertical-align: top\">0.9859687524961468</td>\n",
       "    </tr>\n",
       "    <tr>\n",
       "        <td style=\"padding-left: 1em; padding-right: 1em; text-align: center; vertical-align: top\">orange</td>\n",
       "        <td style=\"padding-left: 1em; padding-right: 1em; text-align: center; vertical-align: top\">0.5955222616777298</td>\n",
       "    </tr>\n",
       "    <tr>\n",
       "        <td style=\"padding-left: 1em; padding-right: 1em; text-align: center; vertical-align: top\">juice</td>\n",
       "        <td style=\"padding-left: 1em; padding-right: 1em; text-align: center; vertical-align: top\">0.5515946562171885</td>\n",
       "    </tr>\n",
       "    <tr>\n",
       "        <td style=\"padding-left: 1em; padding-right: 1em; text-align: center; vertical-align: top\">watermelon</td>\n",
       "        <td style=\"padding-left: 1em; padding-right: 1em; text-align: center; vertical-align: top\">0.7511834780756713</td>\n",
       "    </tr>\n",
       "    <tr>\n",
       "        <td style=\"padding-left: 1em; padding-right: 1em; text-align: center; vertical-align: top\">apple</td>\n",
       "        <td style=\"padding-left: 1em; padding-right: 1em; text-align: center; vertical-align: top\">0.9634705104802253</td>\n",
       "    </tr>\n",
       "</table>\n",
       "[952 rows x 2 columns]<br/>Note: Only the head of the SFrame is printed.<br/>You can use print_rows(num_rows=m, num_columns=n) to print more rows and columns.\n",
       "</div>"
      ],
      "text/plain": [
       "Columns:\n",
       "\tclass\tstr\n",
       "\tprobability\tfloat\n",
       "\n",
       "Rows: 952\n",
       "\n",
       "Data:\n",
       "+------------+--------------------+\n",
       "|   class    |    probability     |\n",
       "+------------+--------------------+\n",
       "|   apple    | 0.5738069948000187 |\n",
       "|   apple    | 0.6762851870152197 |\n",
       "|   orange   | 0.5303395594938812 |\n",
       "|   orange   | 0.7461786747353468 |\n",
       "|   apple    | 0.3116237754688823 |\n",
       "|   apple    | 0.9859687524961468 |\n",
       "|   orange   | 0.5955222616777298 |\n",
       "|   juice    | 0.5515946562171885 |\n",
       "| watermelon | 0.7511834780756713 |\n",
       "|   apple    | 0.9634705104802253 |\n",
       "+------------+--------------------+\n",
       "[952 rows x 2 columns]\n",
       "Note: Only the head of the SFrame is printed.\n",
       "You can use print_rows(num_rows=m, num_columns=n) to print more rows and columns."
      ]
     },
     "execution_count": 49,
     "metadata": {},
     "output_type": "execute_result"
    }
   ],
   "source": [
    "output"
   ]
  },
  {
   "cell_type": "code",
   "execution_count": 50,
   "metadata": {},
   "outputs": [
    {
     "data": {
      "text/html": [
       "<pre>Materializing SFrame...</pre>"
      ],
      "text/plain": [
       "Materializing SFrame..."
      ]
     },
     "metadata": {},
     "output_type": "display_data"
    },
    {
     "data": {
      "text/html": [
       "<pre>Done.</pre>"
      ],
      "text/plain": [
       "Done."
      ]
     },
     "metadata": {},
     "output_type": "display_data"
    }
   ],
   "source": [
    "imgs_with_pred = test_data.add_columns(output)\n",
    "imgs_with_pred.explore()"
   ]
  },
  {
   "cell_type": "code",
   "execution_count": 59,
   "metadata": {},
   "outputs": [
    {
     "data": {
      "text/html": [
       "<pre>Materializing SFrame...</pre>"
      ],
      "text/plain": [
       "Materializing SFrame..."
      ]
     },
     "metadata": {},
     "output_type": "display_data"
    },
    {
     "data": {
      "text/html": [
       "<pre>Done.</pre>"
      ],
      "text/plain": [
       "Done."
      ]
     },
     "metadata": {},
     "output_type": "display_data"
    }
   ],
   "source": [
    "imgs_filtered = imgs_with_pred[(imgs_with_pred[\"probability\"] > 0.9) & \n",
    "                               (imgs_with_pred[\"label\"] != imgs_with_pred[\"class\"] )]\n",
    "imgs_filtered.explore()"
   ]
  },
  {
   "cell_type": "code",
   "execution_count": 60,
   "metadata": {},
   "outputs": [],
   "source": [
    "model.save(\"MultiSnacks.model\")"
   ]
  },
  {
   "cell_type": "code",
   "execution_count": 61,
   "metadata": {},
   "outputs": [
    {
     "name": "stderr",
     "output_type": "stream",
     "text": [
      "/Users/matthijs/Documents/bookenv/lib/python3.6/site-packages/coremltools/_deps/__init__.py:100: DeprecationWarning: The 'warn' function is deprecated, use 'warning' instead\n",
      "  % (keras.__version__, KERAS_MAX_VERSION))\n",
      "WARNING:root:Keras version 2.1.4 detected. Last version known to be fully compatible of Keras is 2.1.3 .\n"
     ]
    }
   ],
   "source": [
    "model.export_coreml(\"MultiSnacks.mlmodel\")"
   ]
  },
  {
   "cell_type": "code",
   "execution_count": null,
   "metadata": {},
   "outputs": [],
   "source": []
  },
  {
   "cell_type": "markdown",
   "metadata": {},
   "source": [
    "## Bonus section: adding regularization"
   ]
  },
  {
   "cell_type": "code",
   "execution_count": 62,
   "metadata": {},
   "outputs": [],
   "source": [
    "val_data = tc.image_analysis.load_images(\"dataset/snacks/val\", with_path=True)\n",
    "\n",
    "val_data[\"label\"] = val_data[\"path\"].apply(lambda path: os.path.basename(os.path.split(path)[0]))"
   ]
  },
  {
   "cell_type": "code",
   "execution_count": 63,
   "metadata": {},
   "outputs": [
    {
     "data": {
      "text/plain": [
       "955"
      ]
     },
     "execution_count": 63,
     "metadata": {},
     "output_type": "execute_result"
    }
   ],
   "source": [
    "len(val_data)"
   ]
  },
  {
   "cell_type": "code",
   "execution_count": 64,
   "metadata": {},
   "outputs": [],
   "source": [
    "from turicreate.toolkits import _pre_trained_models, _image_feature_extractor\n",
    "\n",
    "ptModel = _pre_trained_models.MODELS[\"squeezenet_v1.1\"]()\n",
    "feature_extractor = _image_feature_extractor.MXFeatureExtractor(ptModel)"
   ]
  },
  {
   "cell_type": "code",
   "execution_count": 66,
   "metadata": {},
   "outputs": [
    {
     "name": "stdout",
     "output_type": "stream",
     "text": [
      "Resizing images...\n",
      "Performing feature extraction on resized images...\n",
      "Completed  512/4838\n",
      "Completed 1024/4838\n",
      "Completed 1536/4838\n",
      "Completed 2048/4838\n",
      "Completed 2560/4838\n",
      "Completed 3072/4838\n",
      "Completed 3584/4838\n",
      "Completed 4096/4838\n",
      "Completed 4608/4838\n",
      "Completed 4838/4838\n"
     ]
    }
   ],
   "source": [
    "train_features = feature_extractor.extract_features(train_data, \"image\", verbose=True)"
   ]
  },
  {
   "cell_type": "code",
   "execution_count": 67,
   "metadata": {},
   "outputs": [],
   "source": [
    "extracted_train_features = tc.SFrame({\n",
    "    \"label\": train_data[\"label\"],\n",
    "    '__image_features__': train_features,\n",
    "    })"
   ]
  },
  {
   "cell_type": "code",
   "execution_count": 71,
   "metadata": {},
   "outputs": [
    {
     "data": {
      "text/html": [
       "<div style=\"max-height:1000px;max-width:1500px;overflow:auto;\"><table frame=\"box\" rules=\"cols\">\n",
       "    <tr>\n",
       "        <th style=\"padding-left: 1em; padding-right: 1em; text-align: center\">__image_features__</th>\n",
       "        <th style=\"padding-left: 1em; padding-right: 1em; text-align: center\">label</th>\n",
       "    </tr>\n",
       "    <tr>\n",
       "        <td style=\"padding-left: 1em; padding-right: 1em; text-align: center; vertical-align: top\">[6.1337385177612305,<br>10.12844181060791, ...</td>\n",
       "        <td style=\"padding-left: 1em; padding-right: 1em; text-align: center; vertical-align: top\">apple</td>\n",
       "    </tr>\n",
       "    <tr>\n",
       "        <td style=\"padding-left: 1em; padding-right: 1em; text-align: center; vertical-align: top\">[9.666999816894531,<br>14.665328025817871, ...</td>\n",
       "        <td style=\"padding-left: 1em; padding-right: 1em; text-align: center; vertical-align: top\">apple</td>\n",
       "    </tr>\n",
       "    <tr>\n",
       "        <td style=\"padding-left: 1em; padding-right: 1em; text-align: center; vertical-align: top\">[10.662524223327637,<br>15.472965240478516, ...</td>\n",
       "        <td style=\"padding-left: 1em; padding-right: 1em; text-align: center; vertical-align: top\">apple</td>\n",
       "    </tr>\n",
       "    <tr>\n",
       "        <td style=\"padding-left: 1em; padding-right: 1em; text-align: center; vertical-align: top\">[12.159001350402832,<br>11.231389045715332, ...</td>\n",
       "        <td style=\"padding-left: 1em; padding-right: 1em; text-align: center; vertical-align: top\">apple</td>\n",
       "    </tr>\n",
       "    <tr>\n",
       "        <td style=\"padding-left: 1em; padding-right: 1em; text-align: center; vertical-align: top\">[17.9743709564209,<br>19.089576721191406, ...</td>\n",
       "        <td style=\"padding-left: 1em; padding-right: 1em; text-align: center; vertical-align: top\">apple</td>\n",
       "    </tr>\n",
       "    <tr>\n",
       "        <td style=\"padding-left: 1em; padding-right: 1em; text-align: center; vertical-align: top\">[5.879778861999512,<br>9.116369247436523, ...</td>\n",
       "        <td style=\"padding-left: 1em; padding-right: 1em; text-align: center; vertical-align: top\">apple</td>\n",
       "    </tr>\n",
       "    <tr>\n",
       "        <td style=\"padding-left: 1em; padding-right: 1em; text-align: center; vertical-align: top\">[6.7489848136901855,<br>6.330108642578125, ...</td>\n",
       "        <td style=\"padding-left: 1em; padding-right: 1em; text-align: center; vertical-align: top\">apple</td>\n",
       "    </tr>\n",
       "    <tr>\n",
       "        <td style=\"padding-left: 1em; padding-right: 1em; text-align: center; vertical-align: top\">[5.711240291595459,<br>13.054986000061035, ...</td>\n",
       "        <td style=\"padding-left: 1em; padding-right: 1em; text-align: center; vertical-align: top\">apple</td>\n",
       "    </tr>\n",
       "    <tr>\n",
       "        <td style=\"padding-left: 1em; padding-right: 1em; text-align: center; vertical-align: top\">[8.625852584838867,<br>6.533729553222656, ...</td>\n",
       "        <td style=\"padding-left: 1em; padding-right: 1em; text-align: center; vertical-align: top\">apple</td>\n",
       "    </tr>\n",
       "    <tr>\n",
       "        <td style=\"padding-left: 1em; padding-right: 1em; text-align: center; vertical-align: top\">[6.440614700317383,<br>13.472396850585938, ...</td>\n",
       "        <td style=\"padding-left: 1em; padding-right: 1em; text-align: center; vertical-align: top\">apple</td>\n",
       "    </tr>\n",
       "</table>\n",
       "[10 rows x 2 columns]<br/>\n",
       "</div>"
      ],
      "text/plain": [
       "Columns:\n",
       "\t__image_features__\tarray\n",
       "\tlabel\tstr\n",
       "\n",
       "Rows: 10\n",
       "\n",
       "Data:\n",
       "+-------------------------------+-------+\n",
       "|       __image_features__      | label |\n",
       "+-------------------------------+-------+\n",
       "| [6.1337385177612305, 10.12... | apple |\n",
       "| [9.666999816894531, 14.665... | apple |\n",
       "| [10.662524223327637, 15.47... | apple |\n",
       "| [12.159001350402832, 11.23... | apple |\n",
       "| [17.9743709564209, 19.0895... | apple |\n",
       "| [5.879778861999512, 9.1163... | apple |\n",
       "| [6.7489848136901855, 6.330... | apple |\n",
       "| [5.711240291595459, 13.054... | apple |\n",
       "| [8.625852584838867, 6.5337... | apple |\n",
       "| [6.440614700317383, 13.472... | apple |\n",
       "+-------------------------------+-------+\n",
       "[10 rows x 2 columns]"
      ]
     },
     "execution_count": 71,
     "metadata": {},
     "output_type": "execute_result"
    }
   ],
   "source": [
    "extracted_train_features.head()"
   ]
  },
  {
   "cell_type": "code",
   "execution_count": 76,
   "metadata": {},
   "outputs": [
    {
     "data": {
      "text/plain": [
       "array('d', [6.1337385177612305, 10.12844181060791, 13.025101661682129, 7.931194305419922, 12.03809928894043, 15.103202819824219, 12.722893714904785, 10.930903434753418, 12.778315544128418, 14.208030700683594, 16.8399658203125, 11.781684875488281, 18.9950008392334, 17.461009979248047, 18.71086311340332, 12.680943489074707, 13.507372856140137, 11.648835182189941, 12.983752250671387, 10.726638793945312, 14.91991901397705, 12.129714965820312, 11.41422176361084, 14.733708381652832, 9.810266494750977, 10.896636009216309, 18.019433975219727, 15.979007720947266, 13.082313537597656, 13.18386173248291, 9.810115814208984, 12.890349388122559, 17.385112762451172, 12.061915397644043, 12.310944557189941, 12.094204902648926, 14.050443649291992, 13.809379577636719, 18.27542495727539, 16.623281478881836, 17.035629272460938, 22.04035758972168, 16.952964782714844, 13.085407257080078, 20.951547622680664, 13.966248512268066, 16.57986068725586, 16.84740447998047, 14.33891487121582, 16.345022201538086, 13.959563255310059, 10.816361427307129, 18.250097274780273, 11.89164924621582, 13.548440933227539, 10.096102714538574, 13.402337074279785, 14.587564468383789, 15.414525985717773, 12.529486656188965, 15.558801651000977, 12.575027465820312, 14.993152618408203, 16.06287956237793, 13.337013244628906, 13.524153709411621, 18.180076599121094, 14.346182823181152, 15.203052520751953, 11.768400192260742, 15.498856544494629, 16.85464096069336, 11.116703987121582, 17.50910758972168, 14.951252937316895, 15.005252838134766, 12.72741413116455, 13.731605529785156, 21.375404357910156, 17.842239379882812, 15.149263381958008, 12.310673713684082, 15.504969596862793, 18.241037368774414, 13.899677276611328, 15.562026977539062, 15.56958293914795, 11.448169708251953, 13.893831253051758, 11.305851936340332, 12.159586906433105, 14.456546783447266, 14.901937484741211, 11.40683650970459, 17.510377883911133, 15.397149085998535, 8.902511596679688, 12.454212188720703, 11.506551742553711, 13.033924102783203, 12.559757232666016, 10.83571720123291, 10.400745391845703, 10.361066818237305, 12.048434257507324, 6.391021728515625, 12.27630615234375, 15.737483024597168, 12.036081314086914, 12.537996292114258, 9.559222221374512, 16.371816635131836, 11.865368843078613, 17.504295349121094, 18.88871955871582, 10.164135932922363, 8.576223373413086, 10.00345516204834, 8.523591041564941, 11.030778884887695, 14.719608306884766, 9.194453239440918, 14.535218238830566, 11.667628288269043, 17.20254135131836, 17.472414016723633, 14.009799003601074, 8.792973518371582, 13.401689529418945, 18.316543579101562, 15.056445121765137, 13.932860374450684, 12.670755386352539, 12.453547477722168, 16.333911895751953, 13.36118221282959, 12.488685607910156, 9.39555549621582, 18.425832748413086, 14.379549980163574, 14.954008102416992, 13.1920166015625, 14.23554801940918, 11.689313888549805, 13.887107849121094, 9.619274139404297, 14.859416007995605, 9.619263648986816, 9.425801277160645, 8.079638481140137, 12.933841705322266, 11.317975997924805, 4.616461753845215, 10.43693733215332, 6.459784030914307, 5.969935894012451, 7.225599765777588, 5.994275093078613, 8.275701522827148, 8.422683715820312, 9.21237850189209, 9.438858032226562, 9.286766052246094, 8.779532432556152, 7.497955799102783, 8.025452613830566, 7.716501235961914, 5.8908867835998535, 11.480013847351074, 10.363127708435059, 9.696892738342285, 11.988849639892578, 12.86668586730957, 10.017851829528809, 9.128028869628906, 5.987701416015625, 10.062545776367188, 10.007682800292969, 13.757576942443848, 12.460051536560059, 9.07180404663086, 14.153738021850586, 8.408650398254395, 8.830089569091797, 10.117280960083008, 12.663715362548828, 10.179091453552246, 7.0596394538879395, 10.846344947814941, 11.634810447692871, 8.46755599975586, 8.72141170501709, 7.01625394821167, 7.186865329742432, 7.928121089935303, 9.789144515991211, 6.4242939949035645, 6.822874069213867, 7.026761531829834, 12.219783782958984, 8.291600227355957, 8.344260215759277, 10.659683227539062, 10.191202163696289, 7.251192092895508, 10.741674423217773, 13.824775695800781, 7.814342498779297, 10.208582878112793, 13.977835655212402, 10.302528381347656, 9.085101127624512, 12.250158309936523, 7.263881206512451, 8.497994422912598, 8.183494567871094, 9.228963851928711, 7.114349842071533, 5.731830596923828, 7.40012264251709, 5.749692440032959, 10.090750694274902, 10.521235466003418, 12.081499099731445, 7.584832191467285, 6.299674987792969, 5.5479254722595215, 10.5664701461792, 10.6237211227417, 8.550444602966309, 6.438150405883789, 6.679563045501709, 8.38205623626709, 8.727951049804688, 7.399385452270508, 7.718824863433838, 9.491626739501953, 8.416674613952637, 4.815441608428955, 5.156534671783447, 4.883980751037598, 5.386147499084473, 8.413183212280273, 7.998901844024658, 3.9137516021728516, 11.008968353271484, 6.489935398101807, 6.781518936157227, 9.514263153076172, 8.164968490600586, 10.80578899383545, 8.4891996383667, 8.409561157226562, 7.356077194213867, 6.987817764282227, 4.519412994384766, 6.8680596351623535, 9.964058876037598, 8.947600364685059, 7.7909955978393555, 4.46203088760376, 5.651037693023682, 6.012669086456299, 9.064881324768066, 6.664766311645508, 10.412036895751953, 11.68309211730957, 13.3964262008667, 11.587559700012207, 10.326319694519043, 10.761931419372559, 8.668917655944824, 11.959941864013672, 12.134544372558594, 9.79212474822998, 9.974990844726562, 11.242212295532227, 9.662995338439941, 10.330021858215332, 11.737479209899902, 10.487010955810547, 9.74988079071045, 7.926192283630371, 7.949120998382568, 4.788160800933838, 11.492427825927734, 9.053483009338379, 10.194435119628906, 8.021247863769531, 9.166644096374512, 6.603806018829346, 10.441516876220703, 7.9558186531066895, 11.606001853942871, 8.13751220703125, 11.119739532470703, 10.253644943237305, 11.45136833190918, 15.916211128234863, 14.862808227539062, 11.061702728271484, 17.956707000732422, 14.484162330627441, 14.585680961608887, 18.610084533691406, 16.780303955078125, 16.49806785583496, 18.35716438293457, 18.877803802490234, 13.62220573425293, 24.388856887817383, 14.497093200683594, 15.396944999694824, 17.368587493896484, 16.09264373779297, 22.32472038269043, 15.247525215148926, 13.65742301940918, 16.839902877807617, 23.903745651245117, 21.039113998413086, 8.964821815490723, 12.72122859954834, 8.118244171142578, 12.386409759521484, 11.988443374633789, 8.580493927001953, 14.200187683105469, 12.908661842346191, 11.623334884643555, 16.989294052124023, 17.358373641967773, 9.287818908691406, 18.75462532043457, 13.281311988830566, 11.572229385375977, 12.733777046203613, 13.3635835647583, 11.165523529052734, 7.288730144500732, 11.71842098236084, 13.527885437011719, 9.447824478149414, 11.657591819763184, 16.093242645263672, 13.342923164367676, 11.157462120056152, 6.897806644439697, 10.187655448913574, 10.908470153808594, 14.66037654876709, 12.473006248474121, 13.2410888671875, 16.962726593017578, 11.650741577148438, 10.277979850769043, 15.210152626037598, 15.048548698425293, 12.677738189697266, 11.299100875854492, 12.144722938537598, 10.484467506408691, 11.442358016967773, 17.356365203857422, 9.158012390136719, 12.802867889404297, 12.534269332885742, 12.680423736572266, 7.877115249633789, 12.10637092590332, 8.87794017791748, 11.85392951965332, 16.905227661132812, 10.036249160766602, 10.214057922363281, 9.0091552734375, 9.2637300491333, 9.612032890319824, 11.574572563171387, 11.907278060913086, 10.489058494567871, 9.193469047546387, 9.632866859436035, 7.9510722160339355, 9.687960624694824, 12.238717079162598, 11.686779022216797, 5.98074197769165, 7.495244026184082, 9.34792423248291, 10.835651397705078, 6.562023162841797, 8.232612609863281, 11.62203311920166, 7.5381951332092285, 11.498241424560547, 7.578897476196289, 8.760100364685059, 14.622220993041992, 11.521003723144531, 5.388826847076416, 7.2924113273620605, 13.523385047912598, 11.937060356140137, 10.536674499511719, 15.438836097717285, 9.237553596496582, 6.238687992095947, 9.73292064666748, 13.520186424255371, 6.6048150062561035, 10.954280853271484, 11.984306335449219, 12.792570114135742, 8.35023307800293, 12.813952445983887, 10.14749526977539, 16.8604679107666, 14.167826652526855, 14.860360145568848, 14.488404273986816, 10.653841972351074, 10.6959810256958, 12.072737693786621, 10.104941368103027, 8.06406307220459, 11.120421409606934, 9.45991325378418, 17.313507080078125, 15.362783432006836, 10.881705284118652, 14.157812118530273, 10.436175346374512, 11.429621696472168, 10.356987953186035, 13.543556213378906, 6.824011325836182, 8.24940299987793, 15.558899879455566, 7.469858169555664, 13.919737815856934, 10.823068618774414, 10.230207443237305, 13.929041862487793, 7.1823859214782715, 14.844596862792969, 9.858156204223633, 11.448531150817871, 15.384321212768555, 6.291749954223633, 7.560333251953125, 14.285981178283691, 10.443946838378906, 7.073046684265137, 6.013224124908447, 12.760294914245605, 12.442214965820312, 9.992035865783691, 7.147302150726318, 13.786227226257324, 11.657596588134766, 8.994898796081543, 16.271760940551758, 15.410893440246582, 10.157825469970703, 7.561934471130371, 8.627163887023926, 10.25667667388916, 5.341300964355469, 15.123600959777832, 18.198219299316406, 14.072725296020508, 10.44818115234375, 11.303380012512207, 9.376086235046387, 12.813055992126465, 10.788366317749023, 7.898361682891846, 10.965235710144043, 8.271976470947266, 3.6907005310058594, 12.419327735900879, 8.330724716186523, 8.756068229675293, 8.418326377868652, 8.762641906738281, 12.156974792480469, 11.041817665100098, 15.973767280578613, 12.133161544799805, 5.296657562255859, 12.089096069335938, 15.067663192749023, 12.987235069274902, 15.367875099182129, 7.755361557006836, 14.54970645904541, 7.992563247680664, 8.861602783203125, 15.434757232666016, 15.084749221801758, 10.219093322753906, 14.373985290527344, 14.216318130493164, 15.209716796875, 13.159001350402832, 9.614673614501953, 10.556302070617676, 6.726553916931152, 14.619022369384766, 9.895946502685547, 5.208187580108643, 13.370362281799316, 10.09574031829834, 10.477116584777832, 12.686239242553711, 13.8140869140625, 10.595683097839355, 11.565715789794922, 17.862041473388672, 16.010086059570312, 12.0908784866333, 20.419445037841797, 12.809276580810547, 7.5939860343933105, 11.371283531188965, 10.3289213180542, 4.688265800476074, 10.321845054626465, 14.080163955688477, 10.857203483581543, 7.716787338256836, 16.64997673034668, 8.396605491638184, 7.254617691040039, 7.944421768188477, 6.038832187652588, 8.41777229309082, 10.499702453613281, 11.247420310974121, 13.517194747924805, 12.185318946838379, 16.567955017089844, 12.062000274658203, 10.07007122039795, 13.749975204467773, 11.653777122497559, 5.3331098556518555, 10.7677001953125, 13.544119834899902, 8.606961250305176, 17.046302795410156, 7.82698917388916, 13.7000150680542, 10.182741165161133, 9.511348724365234, 9.882366180419922, 8.472660064697266, 9.984317779541016, 7.028553009033203, 7.609980583190918, 9.91447925567627, 14.205862998962402, 14.99206256866455, 10.311884880065918, 5.392731189727783, 8.139925003051758, 15.674280166625977, 8.689204216003418, 5.585723400115967, 11.165279388427734, 8.790695190429688, 15.953559875488281, 8.709877967834473, 13.973493576049805, 6.630573272705078, 9.797554016113281, 16.875783920288086, 11.267460823059082, 7.170846939086914, 8.645395278930664, 5.552508354187012, 14.781143188476562, 10.366040229797363, 20.005800247192383, 12.256797790527344, 8.78421401977539, 16.900711059570312, 15.779520034790039, 11.345909118652344, 6.378586769104004, 14.826664924621582, 4.586981296539307, 9.480457305908203, 7.2877702713012695, 9.924692153930664, 15.482126235961914, 7.912148475646973, 7.833414554595947, 16.203237533569336, 21.10795021057129, 10.319585800170898, 8.952138900756836, 7.0547685623168945, 16.315994262695312, 10.732267379760742, 10.275797843933105, 8.282805442810059, 7.521953582763672, 9.965415000915527, 10.689496994018555, 11.688875198364258, 10.540943145751953, 12.482343673706055, 8.0877103805542, 8.289504051208496, 17.285192489624023, 9.26116943359375, 17.78262710571289, 12.865039825439453, 6.138687610626221, 10.223969459533691, 9.854293823242188, 14.806432723999023, 5.995925426483154, 7.900636196136475, 15.88917350769043, 6.636767864227295, 8.722465515136719, 17.263874053955078, 11.78865909576416, 16.0651798248291, 7.465590000152588, 12.976672172546387, 12.103281021118164, 11.514517784118652, 12.162090301513672, 14.177399635314941, 14.948404312133789, 15.727561950683594, 5.886686325073242, 18.890199661254883, 8.834439277648926, 12.980315208435059, 17.7742862701416, 9.425141334533691, 12.715227127075195, 16.92498207092285, 8.535743713378906, 9.86781120300293, 11.558531761169434, 7.279070854187012, 12.185352325439453, 11.641952514648438, 8.132002830505371, 9.32420539855957, 6.876506805419922, 17.189207077026367, 12.521339416503906, 11.941818237304688, 9.531024932861328, 5.693832874298096, 10.416960716247559, 10.438929557800293, 8.057304382324219, 8.834098815917969, 17.702184677124023, 8.451916694641113, 10.7342529296875, 10.212615013122559, 11.420352935791016, 8.540289878845215, 9.541121482849121, 10.667548179626465, 21.196584701538086, 3.672171115875244, 8.32016658782959, 23.52879524230957, 8.500690460205078, 17.044021606445312, 15.25012493133545, 8.448288917541504, 9.163994789123535, 13.679586410522461, 13.791182518005371, 4.803933143615723, 6.624314785003662, 3.3767876625061035, 5.26584529876709, 8.340095520019531, 9.455994606018066, 10.184168815612793, 14.471717834472656, 13.656929969787598, 8.583148956298828, 14.643470764160156, 17.830934524536133, 10.872518539428711, 9.131448745727539, 10.112411499023438, 18.782630920410156, 15.788537979125977, 9.660942077636719, 7.003025531768799, 11.509658813476562, 7.014711856842041, 13.112763404846191, 8.922518730163574, 12.489974975585938, 13.953009605407715, 17.330646514892578, 17.732318878173828, 12.360492706298828, 6.07693338394165, 14.807503700256348, 10.23393440246582, 12.180203437805176, 6.008848190307617, 10.394526481628418, 13.443530082702637, 12.387380599975586, 11.245349884033203, 13.089713096618652, 14.685276985168457, 12.068370819091797, 16.138078689575195, 16.697328567504883, 13.086458206176758, 14.936062812805176, 10.549324989318848, 11.364995002746582, 21.54808807373047, 3.605386734008789, 14.329910278320312, 3.6075685024261475, 9.31516170501709, 8.94791030883789, 14.469849586486816, 15.073801040649414, 10.614954948425293, 12.205299377441406, 12.429153442382812, 6.650701999664307, 10.288684844970703, 15.228919982910156, 6.450444221496582, 14.862154006958008, 16.75914764404297, 13.844961166381836, 18.280649185180664, 14.758431434631348, 9.06966495513916, 11.703048706054688, 11.226658821105957, 11.05208683013916, 11.382101058959961, 11.317716598510742, 7.342831134796143, 14.935831069946289, 4.83257532119751, 10.267807006835938, 14.605796813964844, 12.513010025024414, 11.543148040771484, 12.944283485412598, 12.673312187194824, 6.172817230224609, 20.200721740722656, 10.185787200927734, 18.570070266723633, 11.279226303100586, 9.243293762207031, 20.805723190307617, 14.245399475097656, 14.444844245910645, 10.706009864807129, 11.518521308898926, 10.973723411560059, 14.734814643859863, 7.025032043457031, 9.743099212646484, 5.815957069396973, 11.298336029052734, 16.34831428527832, 18.447677612304688, 8.277080535888672, 13.2606782913208, 11.0950927734375, 6.662522315979004, 12.474800109863281, 12.876516342163086, 13.19786262512207, 17.27537727355957, 8.29351806640625, 16.302894592285156, 16.512264251708984, 10.005040168762207, 11.80024528503418, 9.264566421508789, 11.712590217590332, 5.808211803436279, 13.20758056640625, 10.805333137512207, 8.011014938354492, 17.857942581176758, 15.982444763183594, 15.581029891967773, 11.860727310180664, 17.413692474365234, 15.439857482910156, 7.081232070922852, 9.088297843933105, 11.714167594909668, 16.561494827270508, 11.111542701721191, 12.260346412658691, 17.960647583007812, 4.588655948638916, 13.007420539855957, 9.801712036132812, 6.658119201660156, 7.499322891235352, 10.322253227233887, 11.240854263305664, 9.539131164550781, 13.96461296081543, 7.961636066436768, 9.775838851928711, 13.48902702331543, 8.29398250579834, 11.990406036376953, 13.173333168029785, 11.72789192199707, 12.414822578430176, 8.964286804199219, 15.256509780883789, 12.898486137390137, 12.272982597351074, 15.462736129760742, 6.969409942626953, 16.23788833618164, 10.131455421447754, 13.31130313873291, 14.938701629638672, 17.75362205505371, 22.075176239013672, 18.815675735473633, 14.279812812805176, 8.001527786254883, 14.479896545410156, 13.861684799194336, 11.634215354919434, 12.142054557800293, 8.987201690673828, 5.618172645568848, 18.07737922668457, 15.175833702087402, 7.898242473602295, 10.672356605529785, 7.112332820892334, 6.807934761047363, 9.915111541748047, 11.187126159667969, 10.358562469482422, 9.61146354675293, 10.892251968383789, 15.887422561645508, 6.50094747543335, 12.809974670410156, 9.144706726074219, 17.911365509033203, 7.131690979003906, 13.869877815246582, 6.9338250160217285, 4.535121917724609, 12.288192749023438, 13.628622055053711, 9.389897346496582, 4.213179111480713, 14.353023529052734, 11.275700569152832, 7.9163923263549805, 7.625694274902344, 15.776163101196289, 11.281441688537598, 13.584086418151855, 6.061967372894287, 12.027854919433594, 10.347973823547363, 11.641151428222656, 17.361413955688477, 9.538779258728027, 14.335163116455078, 10.810969352722168, 7.833386421203613, 16.919334411621094, 15.706597328186035, 4.574902534484863, 12.450387001037598, 16.978172302246094, 11.171329498291016, 12.7089262008667, 16.73731803894043, 8.061441421508789, 15.575812339782715, 13.048285484313965, 7.176946640014648, 17.016841888427734, 15.911211013793945, 14.295258522033691, 17.466989517211914, 13.019451141357422, 14.870792388916016, 17.151172637939453, 6.751197814941406, 13.645397186279297, 9.032330513000488, 8.006542205810547, 14.164779663085938, 9.86585807800293, 10.709668159484863, 10.493135452270508, 11.97397518157959, 17.007122039794922, 13.445752143859863, 17.42383575439453, 13.622097969055176, 16.583110809326172, 15.81533145904541, 17.186391830444336, 15.366551399230957, 13.717766761779785, 6.9729180335998535, 7.824293613433838, 14.867469787597656, 12.815266609191895, 12.357068061828613, 10.572551727294922, 12.507011413574219, 11.2630615234375, 14.612386703491211, 10.836162567138672, 14.937606811523438, 16.998247146606445, 10.810169219970703, 16.65064811706543, 12.793055534362793, 15.955639839172363, 20.182098388671875, 18.2993106842041, 17.241849899291992, 15.301520347595215, 20.163639068603516, 14.329017639160156, 16.422765731811523, 12.81773567199707, 13.333280563354492, 19.63389015197754, 15.683542251586914, 18.53423500061035, 14.017512321472168, 14.580326080322266, 13.095317840576172, 7.379400730133057, 12.231313705444336, 10.87880802154541, 15.95176887512207, 8.464326858520508, 15.253925323486328, 14.536210060119629, 11.509174346923828, 17.727249145507812, 14.469206809997559, 10.94182014465332, 13.651229858398438, 17.787086486816406, 11.909049987792969, 17.49225616455078, 14.553820610046387, 11.1316499710083, 7.554905891418457, 14.602739334106445, 10.154574394226074, 6.819843292236328, 10.867810249328613, 9.90933609008789, 9.047836303710938, 17.785036087036133, 22.085506439208984, 22.679574966430664, 19.411483764648438, 7.904386043548584, 14.087503433227539, 10.489089965820312, 13.799365043640137, 13.419229507446289, 12.453815460205078, 14.893197059631348, 18.80016326904297, 12.851901054382324])"
      ]
     },
     "execution_count": 76,
     "metadata": {},
     "output_type": "execute_result"
    }
   ],
   "source": [
    "extracted_train_features[0][\"__image_features__\"]"
   ]
  },
  {
   "cell_type": "code",
   "execution_count": 77,
   "metadata": {},
   "outputs": [
    {
     "name": "stdout",
     "output_type": "stream",
     "text": [
      "Resizing images...\n",
      "Performing feature extraction on resized images...\n",
      "Completed 512/955\n",
      "Completed 955/955\n"
     ]
    }
   ],
   "source": [
    "val_features = feature_extractor.extract_features(val_data, \"image\", verbose=True)\n",
    "\n",
    "extracted_val_features = tc.SFrame({\n",
    "    \"label\": val_data[\"label\"],\n",
    "    '__image_features__': val_features,\n",
    "    })"
   ]
  },
  {
   "cell_type": "code",
   "execution_count": 78,
   "metadata": {
    "scrolled": false
   },
   "outputs": [
    {
     "data": {
      "text/html": [
       "<pre>Logistic regression:</pre>"
      ],
      "text/plain": [
       "Logistic regression:"
      ]
     },
     "metadata": {},
     "output_type": "display_data"
    },
    {
     "data": {
      "text/html": [
       "<pre>--------------------------------------------------------</pre>"
      ],
      "text/plain": [
       "--------------------------------------------------------"
      ]
     },
     "metadata": {},
     "output_type": "display_data"
    },
    {
     "data": {
      "text/html": [
       "<pre>Number of examples          : 4838</pre>"
      ],
      "text/plain": [
       "Number of examples          : 4838"
      ]
     },
     "metadata": {},
     "output_type": "display_data"
    },
    {
     "data": {
      "text/html": [
       "<pre>Number of classes           : 20</pre>"
      ],
      "text/plain": [
       "Number of classes           : 20"
      ]
     },
     "metadata": {},
     "output_type": "display_data"
    },
    {
     "data": {
      "text/html": [
       "<pre>Number of feature columns   : 1</pre>"
      ],
      "text/plain": [
       "Number of feature columns   : 1"
      ]
     },
     "metadata": {},
     "output_type": "display_data"
    },
    {
     "data": {
      "text/html": [
       "<pre>Number of unpacked features : 1000</pre>"
      ],
      "text/plain": [
       "Number of unpacked features : 1000"
      ]
     },
     "metadata": {},
     "output_type": "display_data"
    },
    {
     "data": {
      "text/html": [
       "<pre>Number of coefficients      : 19019</pre>"
      ],
      "text/plain": [
       "Number of coefficients      : 19019"
      ]
     },
     "metadata": {},
     "output_type": "display_data"
    },
    {
     "data": {
      "text/html": [
       "<pre>Starting L-BFGS</pre>"
      ],
      "text/plain": [
       "Starting L-BFGS"
      ]
     },
     "metadata": {},
     "output_type": "display_data"
    },
    {
     "data": {
      "text/html": [
       "<pre>--------------------------------------------------------</pre>"
      ],
      "text/plain": [
       "--------------------------------------------------------"
      ]
     },
     "metadata": {},
     "output_type": "display_data"
    },
    {
     "data": {
      "text/html": [
       "<pre>+-----------+----------+-----------+--------------+-------------------+---------------------+</pre>"
      ],
      "text/plain": [
       "+-----------+----------+-----------+--------------+-------------------+---------------------+"
      ]
     },
     "metadata": {},
     "output_type": "display_data"
    },
    {
     "data": {
      "text/html": [
       "<pre>| Iteration | Passes   | Step size | Elapsed Time | Training-accuracy | Validation-accuracy |</pre>"
      ],
      "text/plain": [
       "| Iteration | Passes   | Step size | Elapsed Time | Training-accuracy | Validation-accuracy |"
      ]
     },
     "metadata": {},
     "output_type": "display_data"
    },
    {
     "data": {
      "text/html": [
       "<pre>+-----------+----------+-----------+--------------+-------------------+---------------------+</pre>"
      ],
      "text/plain": [
       "+-----------+----------+-----------+--------------+-------------------+---------------------+"
      ]
     },
     "metadata": {},
     "output_type": "display_data"
    },
    {
     "data": {
      "text/html": [
       "<pre>| 1         | 6        | 0.000014  | 1.254786     | 0.078338          | 0.070157            |</pre>"
      ],
      "text/plain": [
       "| 1         | 6        | 0.000014  | 1.254786     | 0.078338          | 0.070157            |"
      ]
     },
     "metadata": {},
     "output_type": "display_data"
    },
    {
     "data": {
      "text/html": [
       "<pre>| 2         | 9        | 5.000000  | 1.967838     | 0.201530          | 0.206283            |</pre>"
      ],
      "text/plain": [
       "| 2         | 9        | 5.000000  | 1.967838     | 0.201530          | 0.206283            |"
      ]
     },
     "metadata": {},
     "output_type": "display_data"
    },
    {
     "data": {
      "text/html": [
       "<pre>| 3         | 10       | 5.000000  | 2.290720     | 0.257131          | 0.267016            |</pre>"
      ],
      "text/plain": [
       "| 3         | 10       | 5.000000  | 2.290720     | 0.257131          | 0.267016            |"
      ]
     },
     "metadata": {},
     "output_type": "display_data"
    },
    {
     "data": {
      "text/html": [
       "<pre>| 4         | 11       | 5.000000  | 2.593803     | 0.335469          | 0.316230            |</pre>"
      ],
      "text/plain": [
       "| 4         | 11       | 5.000000  | 2.593803     | 0.335469          | 0.316230            |"
      ]
     },
     "metadata": {},
     "output_type": "display_data"
    },
    {
     "data": {
      "text/html": [
       "<pre>| 5         | 13       | 1.000000  | 3.135252     | 0.330508          | 0.330890            |</pre>"
      ],
      "text/plain": [
       "| 5         | 13       | 1.000000  | 3.135252     | 0.330508          | 0.330890            |"
      ]
     },
     "metadata": {},
     "output_type": "display_data"
    },
    {
     "data": {
      "text/html": [
       "<pre>| 6         | 14       | 1.000000  | 3.473605     | 0.346011          | 0.368586            |</pre>"
      ],
      "text/plain": [
       "| 6         | 14       | 1.000000  | 3.473605     | 0.346011          | 0.368586            |"
      ]
     },
     "metadata": {},
     "output_type": "display_data"
    },
    {
     "data": {
      "text/html": [
       "<pre>| 10        | 18       | 1.000000  | 4.824371     | 0.356346          | 0.322513            |</pre>"
      ],
      "text/plain": [
       "| 10        | 18       | 1.000000  | 4.824371     | 0.356346          | 0.322513            |"
      ]
     },
     "metadata": {},
     "output_type": "display_data"
    },
    {
     "data": {
      "text/html": [
       "<pre>| 11        | 19       | 1.000000  | 5.140441     | 0.401406          | 0.382199            |</pre>"
      ],
      "text/plain": [
       "| 11        | 19       | 1.000000  | 5.140441     | 0.401406          | 0.382199            |"
      ]
     },
     "metadata": {},
     "output_type": "display_data"
    },
    {
     "data": {
      "text/html": [
       "<pre>| 15        | 24       | 1.000000  | 6.566916     | 0.453080          | 0.412565            |</pre>"
      ],
      "text/plain": [
       "| 15        | 24       | 1.000000  | 6.566916     | 0.453080          | 0.412565            |"
      ]
     },
     "metadata": {},
     "output_type": "display_data"
    },
    {
     "data": {
      "text/html": [
       "<pre>| 20        | 31       | 1.000000  | 8.575454     | 0.460934          | 0.421990            |</pre>"
      ],
      "text/plain": [
       "| 20        | 31       | 1.000000  | 8.575454     | 0.460934          | 0.421990            |"
      ]
     },
     "metadata": {},
     "output_type": "display_data"
    },
    {
     "data": {
      "text/html": [
       "<pre>| 25        | 36       | 1.000000  | 10.150166    | 0.529558          | 0.469110            |</pre>"
      ],
      "text/plain": [
       "| 25        | 36       | 1.000000  | 10.150166    | 0.529558          | 0.469110            |"
      ]
     },
     "metadata": {},
     "output_type": "display_data"
    },
    {
     "data": {
      "text/html": [
       "<pre>| 30        | 41       | 1.000000  | 11.882550    | 0.576685          | 0.531937            |</pre>"
      ],
      "text/plain": [
       "| 30        | 41       | 1.000000  | 11.882550    | 0.576685          | 0.531937            |"
      ]
     },
     "metadata": {},
     "output_type": "display_data"
    },
    {
     "data": {
      "text/html": [
       "<pre>| 35        | 46       | 1.000000  | 13.689263    | 0.602108          | 0.559162            |</pre>"
      ],
      "text/plain": [
       "| 35        | 46       | 1.000000  | 13.689263    | 0.602108          | 0.559162            |"
      ]
     },
     "metadata": {},
     "output_type": "display_data"
    },
    {
     "data": {
      "text/html": [
       "<pre>| 40        | 51       | 1.000000  | 15.616160    | 0.631873          | 0.576963            |</pre>"
      ],
      "text/plain": [
       "| 40        | 51       | 1.000000  | 15.616160    | 0.631873          | 0.576963            |"
      ]
     },
     "metadata": {},
     "output_type": "display_data"
    },
    {
     "data": {
      "text/html": [
       "<pre>| 45        | 56       | 1.000000  | 17.369712    | 0.655229          | 0.597906            |</pre>"
      ],
      "text/plain": [
       "| 45        | 56       | 1.000000  | 17.369712    | 0.655229          | 0.597906            |"
      ]
     },
     "metadata": {},
     "output_type": "display_data"
    },
    {
     "data": {
      "text/html": [
       "<pre>| 50        | 61       | 1.000000  | 19.155356    | 0.673419          | 0.600000            |</pre>"
      ],
      "text/plain": [
       "| 50        | 61       | 1.000000  | 19.155356    | 0.673419          | 0.600000            |"
      ]
     },
     "metadata": {},
     "output_type": "display_data"
    },
    {
     "data": {
      "text/html": [
       "<pre>| 51        | 62       | 1.000000  | 19.496460    | 0.678793          | 0.600000            |</pre>"
      ],
      "text/plain": [
       "| 51        | 62       | 1.000000  | 19.496460    | 0.678793          | 0.600000            |"
      ]
     },
     "metadata": {},
     "output_type": "display_data"
    },
    {
     "data": {
      "text/html": [
       "<pre>| 55        | 67       | 1.000000  | 21.170170    | 0.691815          | 0.598953            |</pre>"
      ],
      "text/plain": [
       "| 55        | 67       | 1.000000  | 21.170170    | 0.691815          | 0.598953            |"
      ]
     },
     "metadata": {},
     "output_type": "display_data"
    },
    {
     "data": {
      "text/html": [
       "<pre>| 60        | 72       | 1.000000  | 22.900008    | 0.708351          | 0.609424            |</pre>"
      ],
      "text/plain": [
       "| 60        | 72       | 1.000000  | 22.900008    | 0.708351          | 0.609424            |"
      ]
     },
     "metadata": {},
     "output_type": "display_data"
    },
    {
     "data": {
      "text/html": [
       "<pre>| 65        | 79       | 0.500000  | 24.947001    | 0.722406          | 0.624084            |</pre>"
      ],
      "text/plain": [
       "| 65        | 79       | 0.500000  | 24.947001    | 0.722406          | 0.624084            |"
      ]
     },
     "metadata": {},
     "output_type": "display_data"
    },
    {
     "data": {
      "text/html": [
       "<pre>| 70        | 84       | 0.500000  | 26.591140    | 0.726953          | 0.628272            |</pre>"
      ],
      "text/plain": [
       "| 70        | 84       | 0.500000  | 26.591140    | 0.726953          | 0.628272            |"
      ]
     },
     "metadata": {},
     "output_type": "display_data"
    },
    {
     "data": {
      "text/html": [
       "<pre>| 75        | 89       | 0.500000  | 28.237081    | 0.731087          | 0.624084            |</pre>"
      ],
      "text/plain": [
       "| 75        | 89       | 0.500000  | 28.237081    | 0.731087          | 0.624084            |"
      ]
     },
     "metadata": {},
     "output_type": "display_data"
    },
    {
     "data": {
      "text/html": [
       "<pre>| 80        | 94       | 0.500000  | 29.956579    | 0.741835          | 0.629319            |</pre>"
      ],
      "text/plain": [
       "| 80        | 94       | 0.500000  | 29.956579    | 0.741835          | 0.629319            |"
      ]
     },
     "metadata": {},
     "output_type": "display_data"
    },
    {
     "data": {
      "text/html": [
       "<pre>| 85        | 99       | 0.500000  | 31.627047    | 0.744109          | 0.632461            |</pre>"
      ],
      "text/plain": [
       "| 85        | 99       | 0.500000  | 31.627047    | 0.744109          | 0.632461            |"
      ]
     },
     "metadata": {},
     "output_type": "display_data"
    },
    {
     "data": {
      "text/html": [
       "<pre>| 90        | 104      | 0.500000  | 33.372110    | 0.752377          | 0.635602            |</pre>"
      ],
      "text/plain": [
       "| 90        | 104      | 0.500000  | 33.372110    | 0.752377          | 0.635602            |"
      ]
     },
     "metadata": {},
     "output_type": "display_data"
    },
    {
     "data": {
      "text/html": [
       "<pre>| 95        | 109      | 0.500000  | 35.062423    | 0.759405          | 0.626178            |</pre>"
      ],
      "text/plain": [
       "| 95        | 109      | 0.500000  | 35.062423    | 0.759405          | 0.626178            |"
      ]
     },
     "metadata": {},
     "output_type": "display_data"
    },
    {
     "data": {
      "text/html": [
       "<pre>| 100       | 114      | 0.500000  | 36.800856    | 0.766639          | 0.639791            |</pre>"
      ],
      "text/plain": [
       "| 100       | 114      | 0.500000  | 36.800856    | 0.766639          | 0.639791            |"
      ]
     },
     "metadata": {},
     "output_type": "display_data"
    },
    {
     "data": {
      "text/html": [
       "<pre>| 101       | 115      | 0.500000  | 37.158114    | 0.767259          | 0.642932            |</pre>"
      ],
      "text/plain": [
       "| 101       | 115      | 0.500000  | 37.158114    | 0.767259          | 0.642932            |"
      ]
     },
     "metadata": {},
     "output_type": "display_data"
    },
    {
     "data": {
      "text/html": [
       "<pre>| 105       | 119      | 0.500000  | 38.480882    | 0.775527          | 0.646073            |</pre>"
      ],
      "text/plain": [
       "| 105       | 119      | 0.500000  | 38.480882    | 0.775527          | 0.646073            |"
      ]
     },
     "metadata": {},
     "output_type": "display_data"
    },
    {
     "data": {
      "text/html": [
       "<pre>| 110       | 126      | 1.000000  | 40.617411    | 0.780488          | 0.640838            |</pre>"
      ],
      "text/plain": [
       "| 110       | 126      | 1.000000  | 40.617411    | 0.780488          | 0.640838            |"
      ]
     },
     "metadata": {},
     "output_type": "display_data"
    },
    {
     "data": {
      "text/html": [
       "<pre>| 115       | 131      | 1.000000  | 42.352631    | 0.786689          | 0.636649            |</pre>"
      ],
      "text/plain": [
       "| 115       | 131      | 1.000000  | 42.352631    | 0.786689          | 0.636649            |"
      ]
     },
     "metadata": {},
     "output_type": "display_data"
    },
    {
     "data": {
      "text/html": [
       "<pre>| 120       | 137      | 1.000000  | 44.301376    | 0.791236          | 0.637696            |</pre>"
      ],
      "text/plain": [
       "| 120       | 137      | 1.000000  | 44.301376    | 0.791236          | 0.637696            |"
      ]
     },
     "metadata": {},
     "output_type": "display_data"
    },
    {
     "data": {
      "text/html": [
       "<pre>| 125       | 142      | 1.000000  | 46.153882    | 0.793716          | 0.645026            |</pre>"
      ],
      "text/plain": [
       "| 125       | 142      | 1.000000  | 46.153882    | 0.793716          | 0.645026            |"
      ]
     },
     "metadata": {},
     "output_type": "display_data"
    },
    {
     "data": {
      "text/html": [
       "<pre>| 130       | 147      | 1.000000  | 47.906856    | 0.796403          | 0.649215            |</pre>"
      ],
      "text/plain": [
       "| 130       | 147      | 1.000000  | 47.906856    | 0.796403          | 0.649215            |"
      ]
     },
     "metadata": {},
     "output_type": "display_data"
    },
    {
     "data": {
      "text/html": [
       "<pre>| 135       | 152      | 1.000000  | 49.614442    | 0.804258          | 0.646073            |</pre>"
      ],
      "text/plain": [
       "| 135       | 152      | 1.000000  | 49.614442    | 0.804258          | 0.646073            |"
      ]
     },
     "metadata": {},
     "output_type": "display_data"
    },
    {
     "data": {
      "text/html": [
       "<pre>| 140       | 159      | 1.000000  | 51.886263    | 0.802604          | 0.648168            |</pre>"
      ],
      "text/plain": [
       "| 140       | 159      | 1.000000  | 51.886263    | 0.802604          | 0.648168            |"
      ]
     },
     "metadata": {},
     "output_type": "display_data"
    },
    {
     "data": {
      "text/html": [
       "<pre>| 145       | 164      | 1.000000  | 53.657476    | 0.805498          | 0.651309            |</pre>"
      ],
      "text/plain": [
       "| 145       | 164      | 1.000000  | 53.657476    | 0.805498          | 0.651309            |"
      ]
     },
     "metadata": {},
     "output_type": "display_data"
    },
    {
     "data": {
      "text/html": [
       "<pre>| 150       | 172      | 1.000000  | 56.128741    | 0.811699          | 0.652356            |</pre>"
      ],
      "text/plain": [
       "| 150       | 172      | 1.000000  | 56.128741    | 0.811699          | 0.652356            |"
      ]
     },
     "metadata": {},
     "output_type": "display_data"
    },
    {
     "data": {
      "text/html": [
       "<pre>| 155       | 180      | 5.000000  | 58.733689    | 0.816660          | 0.653403            |</pre>"
      ],
      "text/plain": [
       "| 155       | 180      | 5.000000  | 58.733689    | 0.816660          | 0.653403            |"
      ]
     },
     "metadata": {},
     "output_type": "display_data"
    },
    {
     "data": {
      "text/html": [
       "<pre>| 160       | 188      | 1.000000  | 61.384112    | 0.817073          | 0.652356            |</pre>"
      ],
      "text/plain": [
       "| 160       | 188      | 1.000000  | 61.384112    | 0.817073          | 0.652356            |"
      ]
     },
     "metadata": {},
     "output_type": "display_data"
    },
    {
     "data": {
      "text/html": [
       "<pre>| 165       | 193      | 1.000000  | 63.295931    | 0.818727          | 0.651309            |</pre>"
      ],
      "text/plain": [
       "| 165       | 193      | 1.000000  | 63.295931    | 0.818727          | 0.651309            |"
      ]
     },
     "metadata": {},
     "output_type": "display_data"
    },
    {
     "data": {
      "text/html": [
       "<pre>| 170       | 199      | 1.000000  | 65.372009    | 0.818933          | 0.653403            |</pre>"
      ],
      "text/plain": [
       "| 170       | 199      | 1.000000  | 65.372009    | 0.818933          | 0.653403            |"
      ]
     },
     "metadata": {},
     "output_type": "display_data"
    },
    {
     "data": {
      "text/html": [
       "<pre>| 175       | 206      | 1.000000  | 67.726587    | 0.820380          | 0.654450            |</pre>"
      ],
      "text/plain": [
       "| 175       | 206      | 1.000000  | 67.726587    | 0.820380          | 0.654450            |"
      ]
     },
     "metadata": {},
     "output_type": "display_data"
    },
    {
     "data": {
      "text/html": [
       "<pre>| 180       | 212      | 1.000000  | 69.757360    | 0.823067          | 0.654450            |</pre>"
      ],
      "text/plain": [
       "| 180       | 212      | 1.000000  | 69.757360    | 0.823067          | 0.654450            |"
      ]
     },
     "metadata": {},
     "output_type": "display_data"
    },
    {
     "data": {
      "text/html": [
       "<pre>| 185       | 219      | 1.000000  | 72.376790    | 0.823274          | 0.654450            |</pre>"
      ],
      "text/plain": [
       "| 185       | 219      | 1.000000  | 72.376790    | 0.823274          | 0.654450            |"
      ]
     },
     "metadata": {},
     "output_type": "display_data"
    },
    {
     "data": {
      "text/html": [
       "<pre>| 190       | 226      | 1.000000  | 74.788371    | 0.824928          | 0.655497            |</pre>"
      ],
      "text/plain": [
       "| 190       | 226      | 1.000000  | 74.788371    | 0.824928          | 0.655497            |"
      ]
     },
     "metadata": {},
     "output_type": "display_data"
    },
    {
     "data": {
      "text/html": [
       "<pre>| 195       | 232      | 1.000000  | 76.959647    | 0.827615          | 0.656545            |</pre>"
      ],
      "text/plain": [
       "| 195       | 232      | 1.000000  | 76.959647    | 0.827615          | 0.656545            |"
      ]
     },
     "metadata": {},
     "output_type": "display_data"
    },
    {
     "data": {
      "text/html": [
       "<pre>| 200       | 239      | 1.000000  | 79.253064    | 0.829475          | 0.654450            |</pre>"
      ],
      "text/plain": [
       "| 200       | 239      | 1.000000  | 79.253064    | 0.829475          | 0.654450            |"
      ]
     },
     "metadata": {},
     "output_type": "display_data"
    },
    {
     "data": {
      "text/html": [
       "<pre>+-----------+----------+-----------+--------------+-------------------+---------------------+</pre>"
      ],
      "text/plain": [
       "+-----------+----------+-----------+--------------+-------------------+---------------------+"
      ]
     },
     "metadata": {},
     "output_type": "display_data"
    },
    {
     "data": {
      "text/html": [
       "<pre>TERMINATED: Iteration limit reached.</pre>"
      ],
      "text/plain": [
       "TERMINATED: Iteration limit reached."
      ]
     },
     "metadata": {},
     "output_type": "display_data"
    },
    {
     "data": {
      "text/html": [
       "<pre>This model may not be optimal. To improve it, consider increasing `max_iterations`.</pre>"
      ],
      "text/plain": [
       "This model may not be optimal. To improve it, consider increasing `max_iterations`."
      ]
     },
     "metadata": {},
     "output_type": "display_data"
    }
   ],
   "source": [
    "lr_model = tc.logistic_classifier.create(extracted_train_features,\n",
    "                                         features=['__image_features__'],\n",
    "                                         target=\"label\",\n",
    "                                         validation_set=extracted_val_features,\n",
    "                                         max_iterations=200,\n",
    "                                         seed=None,\n",
    "                                         verbose=True,\n",
    "                                         l2_penalty=5.0, \n",
    "                                         l1_penalty=0.0,\n",
    "                                         convergence_threshold=1e-8)"
   ]
  },
  {
   "cell_type": "code",
   "execution_count": 79,
   "metadata": {},
   "outputs": [],
   "source": [
    "from turicreate.toolkits.image_classifier import ImageClassifier\n",
    "\n",
    "state = {\n",
    "    'classifier': lr_model,\n",
    "    'model': ptModel.name,\n",
    "    'max_iterations': lr_model.max_iterations,\n",
    "    'feature_extractor': feature_extractor,\n",
    "    'input_image_shape': ptModel.input_image_shape,\n",
    "    'target': lr_model.target,\n",
    "    'feature': \"image\",\n",
    "    'num_features': 1,\n",
    "    'num_classes': lr_model.num_classes,\n",
    "    'classes': lr_model.classes,\n",
    "    'num_examples': lr_model.num_examples,\n",
    "    'training_time': lr_model.training_time,\n",
    "    'training_loss': lr_model.training_loss,\n",
    "}\n",
    "model = ImageClassifier(state)"
   ]
  },
  {
   "cell_type": "code",
   "execution_count": 80,
   "metadata": {},
   "outputs": [
    {
     "name": "stdout",
     "output_type": "stream",
     "text": [
      "Class                                    : ImageClassifier\n",
      "\n",
      "Schema\n",
      "------\n",
      "Number of classes                        : 20\n",
      "Number of feature columns                : 1\n",
      "Input image shape                        : (3, 227, 227)\n",
      "\n",
      "Training summary\n",
      "----------------\n",
      "Number of examples                       : 4838\n",
      "Training loss                            : 3265.2318\n",
      "Training time (sec)                      : 79.3801\n",
      "\n"
     ]
    }
   ],
   "source": [
    "model.summary()"
   ]
  },
  {
   "cell_type": "code",
   "execution_count": 81,
   "metadata": {},
   "outputs": [
    {
     "data": {
      "text/plain": [
       "Class                          : LogisticClassifier\n",
       "\n",
       "Schema\n",
       "------\n",
       "Number of coefficients         : 19019\n",
       "Number of examples             : 4838\n",
       "Number of classes              : 20\n",
       "Number of feature columns      : 1\n",
       "Number of unpacked features    : 1000\n",
       "\n",
       "Hyperparameters\n",
       "---------------\n",
       "L1 penalty                     : 0.0\n",
       "L2 penalty                     : 5.0\n",
       "\n",
       "Training Summary\n",
       "----------------\n",
       "Solver                         : lbfgs\n",
       "Solver iterations              : 200\n",
       "Solver status                  : TERMINATED: Iteration limit reached.\n",
       "Training time (sec)            : 79.3801\n",
       "\n",
       "Settings\n",
       "--------\n",
       "Log-likelihood                 : 3265.2318\n",
       "\n",
       "Highest Positive Coefficients\n",
       "-----------------------------\n",
       "(intercept)                    : 0.4069\n",
       "(intercept)                    : 0.3218\n",
       "(intercept)                    : 0.1366\n",
       "(intercept)                    : 0.1204\n",
       "(intercept)                    : 0.104\n",
       "\n",
       "Lowest Negative Coefficients\n",
       "----------------------------\n",
       "(intercept)                    : -0.3299\n",
       "(intercept)                    : -0.3294\n",
       "(intercept)                    : -0.2781\n",
       "(intercept)                    : -0.1996\n",
       "(intercept)                    : -0.1313"
      ]
     },
     "execution_count": 81,
     "metadata": {},
     "output_type": "execute_result"
    }
   ],
   "source": [
    "model.classifier"
   ]
  },
  {
   "cell_type": "code",
   "execution_count": null,
   "metadata": {},
   "outputs": [],
   "source": []
  },
  {
   "cell_type": "code",
   "execution_count": null,
   "metadata": {},
   "outputs": [],
   "source": []
  }
 ],
 "metadata": {
  "kernelspec": {
   "display_name": "Python 3",
   "language": "python",
   "name": "python3"
  },
  "language_info": {
   "codemirror_mode": {
    "name": "ipython",
    "version": 3
   },
   "file_extension": ".py",
   "mimetype": "text/x-python",
   "name": "python",
   "nbconvert_exporter": "python",
   "pygments_lexer": "ipython3",
   "version": "3.6.4"
  }
 },
 "nbformat": 4,
 "nbformat_minor": 2
}
