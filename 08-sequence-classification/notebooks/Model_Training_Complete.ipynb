{
 "cells": [
  {
   "cell_type": "markdown",
   "metadata": {},
   "source": [
    "# Training an activity classifier\n",
    "\n",
    "This notebook was used to train the activity classification model **GestureClassifier.mlmodel** supplied with the book Machine Learning by Tutorials."
   ]
  },
  {
   "cell_type": "code",
   "execution_count": null,
   "metadata": {},
   "outputs": [],
   "source": [
    "'''\n",
    "/// Copyright (c) 2018 Razeware LLC\n",
    "/// \n",
    "/// Permission is hereby granted, free of charge, to any person obtaining a copy\n",
    "/// of this software and associated documentation files (the \"Software\"), to deal\n",
    "/// in the Software without restriction, including without limitation the rights\n",
    "/// to use, copy, modify, merge, publish, distribute, sublicense, and/or sell\n",
    "/// copies of the Software, and to permit persons to whom the Software is\n",
    "/// furnished to do so, subject to the following conditions:\n",
    "/// \n",
    "/// The above copyright notice and this permission notice shall be included in\n",
    "/// all copies or substantial portions of the Software.\n",
    "/// \n",
    "/// Notwithstanding the foregoing, you may not use, copy, modify, merge, publish,\n",
    "/// distribute, sublicense, create a derivative work, and/or sell copies of the\n",
    "/// Software in any work that is designed, intended, or marketed for pedagogical or\n",
    "/// instructional purposes related to programming, coding, application development,\n",
    "/// or information technology.  Permission for such use, copying, modification,\n",
    "/// merger, publication, distribution, sublicensing, creation of derivative works,\n",
    "/// or sale is expressly withheld.\n",
    "/// \n",
    "/// THE SOFTWARE IS PROVIDED \"AS IS\", WITHOUT WARRANTY OF ANY KIND, EXPRESS OR\n",
    "/// IMPLIED, INCLUDING BUT NOT LIMITED TO THE WARRANTIES OF MERCHANTABILITY,\n",
    "/// FITNESS FOR A PARTICULAR PURPOSE AND NONINFRINGEMENT. IN NO EVENT SHALL THE\n",
    "/// AUTHORS OR COPYRIGHT HOLDERS BE LIABLE FOR ANY CLAIM, DAMAGES OR OTHER\n",
    "/// LIABILITY, WHETHER IN AN ACTION OF CONTRACT, TORT OR OTHERWISE, ARISING FROM,\n",
    "/// OUT OF OR IN CONNECTION WITH THE SOFTWARE OR THE USE OR OTHER DEALINGS IN\n",
    "/// THE SOFTWARE.\n",
    "'''"
   ]
  },
  {
   "cell_type": "code",
   "execution_count": 1,
   "metadata": {},
   "outputs": [],
   "source": [
    "import turicreate as tc\n",
    "import activity_detector_utils as utils"
   ]
  },
  {
   "cell_type": "markdown",
   "metadata": {},
   "source": [
    "# Load clean datasets"
   ]
  },
  {
   "cell_type": "code",
   "execution_count": 2,
   "metadata": {},
   "outputs": [],
   "source": [
    "train_sf = tc.SFrame(\"data/cleaned_train_sframe\")\n",
    "valid_sf = tc.SFrame(\"data/cleaned_valid_sframe\")\n",
    "test_sf = tc.SFrame(\"data/cleaned_test_sframe\")"
   ]
  },
  {
   "cell_type": "markdown",
   "metadata": {},
   "source": [
    "### Optional: Split a validation set from your training set\n",
    "\n",
    "This step is **not** necessary because we already have a separate validation set. This project does not use the results of the following cell, but it's here as an example to show you how to do it *if* you ever want to in your own projects."
   ]
  },
  {
   "cell_type": "code",
   "execution_count": 3,
   "metadata": {},
   "outputs": [],
   "source": [
    "train, valid = tc.activity_classifier.util.random_split_by_session(train_sf, session_id='sessionId', fraction=0.9)"
   ]
  },
  {
   "cell_type": "code",
   "execution_count": 4,
   "metadata": {},
   "outputs": [
    {
     "name": "stdout",
     "output_type": "stream",
     "text": [
      "+----------+--------+-------+\n",
      "| activity | userId | Count |\n",
      "+----------+--------+-------+\n",
      "| chop_it  |  u_01  |   33  |\n",
      "| chop_it  |  u_02  |   34  |\n",
      "| drive_it |  u_01  |   31  |\n",
      "| drive_it |  u_02  |   30  |\n",
      "| rest_it  |  u_01  |   95  |\n",
      "| rest_it  |  u_02  |   97  |\n",
      "| shake_it |  u_01  |   31  |\n",
      "| shake_it |  u_02  |   33  |\n",
      "+----------+--------+-------+\n",
      "[8 rows x 3 columns]\n",
      "\n",
      "+----------+--------+-------+\n",
      "| activity | userId | Count |\n",
      "+----------+--------+-------+\n",
      "| chop_it  |  u_01  |   3   |\n",
      "| chop_it  |  u_02  |   2   |\n",
      "| drive_it |  u_01  |   5   |\n",
      "| drive_it |  u_02  |   6   |\n",
      "| rest_it  |  u_01  |   13  |\n",
      "| rest_it  |  u_02  |   11  |\n",
      "| shake_it |  u_01  |   5   |\n",
      "| shake_it |  u_02  |   3   |\n",
      "+----------+--------+-------+\n",
      "[8 rows x 3 columns]\n",
      "\n"
     ]
    }
   ],
   "source": [
    "utils.count_activities(train)\n",
    "utils.count_activities(valid)"
   ]
  },
  {
   "cell_type": "markdown",
   "metadata": {},
   "source": [
    "# Verify your model correctness by overfitting\n",
    "\n",
    "This step is to ensure the dataset and model are applicable to the problem, and the model is implemented properly. The following cell grabs a random 5% of the training data and trains an activity classifier model with it to ensure it learns successfully. You can see the training accuracy is quite high – at times 100% – which is a good indication that the model should be able to learn from your dataset."
   ]
  },
  {
   "cell_type": "code",
   "execution_count": 5,
   "metadata": {},
   "outputs": [
    {
     "name": "stdout",
     "output_type": "stream",
     "text": [
      "The dataset has less than the minimum of 100 sessions required for train-validation split. Continuing without validation set\n"
     ]
    },
    {
     "data": {
      "text/html": [
       "<pre>Pre-processing 7096 samples...</pre>"
      ],
      "text/plain": [
       "Pre-processing 7096 samples..."
      ]
     },
     "metadata": {},
     "output_type": "display_data"
    },
    {
     "data": {
      "text/html": [
       "<pre>Using sequences of size 400 for model creation.</pre>"
      ],
      "text/plain": [
       "Using sequences of size 400 for model creation."
      ]
     },
     "metadata": {},
     "output_type": "display_data"
    },
    {
     "data": {
      "text/html": [
       "<pre>Processed a total of 7 sessions.</pre>"
      ],
      "text/plain": [
       "Processed a total of 7 sessions."
      ]
     },
     "metadata": {},
     "output_type": "display_data"
    },
    {
     "name": "stdout",
     "output_type": "stream",
     "text": [
      "Using GPU to create model (AMD Radeon R9 M295X)\n",
      "+----------------+----------------+----------------+----------------+\n",
      "| Iteration      | Train Accuracy | Train Loss     | Elapsed Time   |\n",
      "+----------------+----------------+----------------+----------------+\n",
      "| 1              | 0.295          | 1.626          | 0.0            |\n",
      "| 2              | 0.580          | 1.068          | 0.1            |\n",
      "| 3              | 0.674          | 0.874          | 0.1            |\n",
      "| 4              | 0.807          | 0.653          | 0.1            |\n",
      "| 5              | 0.861          | 0.502          | 0.2            |\n",
      "| 6              | 0.901          | 0.419          | 0.2            |\n",
      "| 7              | 0.904          | 0.433          | 0.2            |\n",
      "| 8              | 0.921          | 0.374          | 0.3            |\n",
      "| 9              | 0.914          | 0.351          | 0.3            |\n",
      "| 10             | 0.929          | 0.276          | 0.3            |\n",
      "| 11             | 0.935          | 0.268          | 0.4            |\n",
      "| 12             | 0.941          | 0.222          | 0.4            |\n",
      "| 13             | 0.934          | 0.246          | 0.4            |\n",
      "| 14             | 0.951          | 0.209          | 0.5            |\n",
      "| 15             | 0.947          | 0.197          | 0.5            |\n",
      "| 16             | 0.961          | 0.187          | 0.5            |\n",
      "| 17             | 0.959          | 0.177          | 0.6            |\n",
      "| 18             | 0.967          | 0.181          | 0.6            |\n",
      "| 19             | 0.956          | 0.155          | 0.6            |\n",
      "| 20             | 0.972          | 0.133          | 0.7            |\n",
      "| 21             | 0.962          | 0.154          | 0.7            |\n",
      "| 22             | 0.972          | 0.123          | 0.7            |\n",
      "| 23             | 0.985          | 0.108          | 0.8            |\n",
      "| 24             | 0.972          | 0.095          | 0.8            |\n",
      "| 25             | 0.972          | 0.108          | 0.8            |\n",
      "| 26             | 0.974          | 0.100          | 0.9            |\n",
      "| 27             | 0.980          | 0.090          | 0.9            |\n",
      "| 28             | 0.970          | 0.107          | 0.9            |\n",
      "| 29             | 0.972          | 0.089          | 1.0            |\n",
      "| 30             | 0.982          | 0.068          | 1.0            |\n",
      "| 31             | 0.982          | 0.077          | 1.0            |\n",
      "| 32             | 0.992          | 0.061          | 1.1            |\n",
      "| 33             | 0.985          | 0.069          | 1.1            |\n",
      "| 34             | 0.989          | 0.057          | 1.1            |\n",
      "| 35             | 0.992          | 0.053          | 1.2            |\n",
      "| 36             | 0.975          | 0.061          | 1.2            |\n",
      "| 37             | 0.989          | 0.042          | 1.2            |\n",
      "| 38             | 0.992          | 0.061          | 1.3            |\n",
      "| 39             | 0.984          | 0.067          | 1.3            |\n",
      "| 40             | 0.989          | 0.055          | 1.3            |\n",
      "| 41             | 0.995          | 0.042          | 1.4            |\n",
      "| 42             | 0.987          | 0.050          | 1.4            |\n",
      "| 43             | 1.000          | 0.035          | 1.4            |\n",
      "| 44             | 1.000          | 0.041          | 1.5            |\n",
      "| 45             | 0.995          | 0.034          | 1.5            |\n",
      "| 46             | 0.990          | 0.039          | 1.6            |\n",
      "| 47             | 0.997          | 0.033          | 1.6            |\n",
      "| 48             | 0.995          | 0.034          | 1.6            |\n",
      "| 49             | 0.995          | 0.034          | 1.7            |\n",
      "| 50             | 0.995          | 0.037          | 1.7            |\n",
      "+----------------+----------------+----------------+----------------+\n",
      "Training complete\n",
      "Total Time Spent: 1.69075s\n"
     ]
    },
    {
     "data": {
      "text/plain": [
       "Class                                    : ActivityClassifier\n",
       "\n",
       "Schema\n",
       "------\n",
       "Number of examples                       : 7096\n",
       "Number of sessions                       : 7\n",
       "Number of classes                        : 4\n",
       "Number of feature columns                : 6\n",
       "Prediction window                        : 20\n",
       "\n",
       "Training summary\n",
       "----------------\n",
       "Log-likelihood                           : 0.0371\n",
       "Training time (sec)                      : 1.7914"
      ]
     },
     "execution_count": 5,
     "metadata": {},
     "output_type": "execute_result"
    }
   ],
   "source": [
    "tiny_train, _ = tc.activity_classifier.util.random_split_by_session(train_sf, session_id='sessionId', fraction=0.05)\n",
    "\n",
    "tc.activity_classifier.create(\n",
    "    dataset=tiny_train, session_id='sessionId', target='activity', \n",
    "    features=[\"rotX\", \"rotY\", \"rotZ\", \"accelX\", \"accelY\", \"accelZ\"],\n",
    "    prediction_window=20, max_iterations=50)"
   ]
  },
  {
   "cell_type": "markdown",
   "metadata": {},
   "source": [
    "# Train the model"
   ]
  },
  {
   "cell_type": "markdown",
   "metadata": {},
   "source": [
    "You'll get different results every time you run this training cell, because there's some randomness built into the training process. You may get slightly better or worse results, but they should be pretty close to these."
   ]
  },
  {
   "cell_type": "code",
   "execution_count": 6,
   "metadata": {
    "scrolled": false
   },
   "outputs": [
    {
     "data": {
      "text/html": [
       "<pre>Pre-processing 235057 samples...</pre>"
      ],
      "text/plain": [
       "Pre-processing 235057 samples..."
      ]
     },
     "metadata": {},
     "output_type": "display_data"
    },
    {
     "data": {
      "text/html": [
       "<pre>Using sequences of size 400 for model creation.</pre>"
      ],
      "text/plain": [
       "Using sequences of size 400 for model creation."
      ]
     },
     "metadata": {},
     "output_type": "display_data"
    },
    {
     "data": {
      "text/html": [
       "<pre>Processed a total of 216 sessions.</pre>"
      ],
      "text/plain": [
       "Processed a total of 216 sessions."
      ]
     },
     "metadata": {},
     "output_type": "display_data"
    },
    {
     "name": "stdout",
     "output_type": "stream",
     "text": [
      "Using GPU to create model (AMD Radeon R9 M295X)\n",
      "+---------------------+---------------------+---------------------+---------------------+---------------------+---------------------+\n",
      "| Iteration           | Train Accuracy      | Train Loss          | Validation Accuracy | Validation Loss     | Elapsed Time        |\n",
      "+---------------------+---------------------+---------------------+---------------------+---------------------+---------------------+\n",
      "| 1                   | 0.562               | 1.209               | 0.713               | 0.705               | 0.6                 | \n",
      "| 2                   | 0.785               | 0.556               | 0.932               | 0.240               | 1.2                 | \n",
      "| 3                   | 0.882               | 0.349               | 0.952               | 0.153               | 1.8                 | \n",
      "| 4                   | 0.924               | 0.248               | 0.955               | 0.134               | 2.4                 | \n",
      "| 5                   | 0.937               | 0.209               | 0.962               | 0.121               | 3.0                 | \n",
      "| 6                   | 0.946               | 0.181               | 0.956               | 0.118               | 3.6                 | \n",
      "| 7                   | 0.954               | 0.163               | 0.965               | 0.112               | 4.1                 | \n",
      "| 8                   | 0.958               | 0.144               | 0.959               | 0.117               | 4.7                 | \n",
      "| 9                   | 0.963               | 0.136               | 0.958               | 0.122               | 5.3                 | \n",
      "| 10                  | 0.959               | 0.137               | 0.958               | 0.119               | 5.9                 | \n",
      "| 11                  | 0.966               | 0.125               | 0.960               | 0.115               | 6.5                 | \n",
      "| 12                  | 0.964               | 0.120               | 0.961               | 0.105               | 7.1                 | \n",
      "| 13                  | 0.970               | 0.108               | 0.963               | 0.109               | 7.7                 | \n",
      "| 14                  | 0.970               | 0.103               | 0.960               | 0.105               | 8.2                 | \n",
      "| 15                  | 0.972               | 0.096               | 0.958               | 0.112               | 8.8                 | \n",
      "| 16                  | 0.972               | 0.091               | 0.960               | 0.105               | 9.4                 | \n",
      "| 17                  | 0.974               | 0.089               | 0.957               | 0.117               | 10.0                | \n",
      "| 18                  | 0.973               | 0.084               | 0.960               | 0.114               | 10.6                | \n",
      "| 19                  | 0.977               | 0.079               | 0.960               | 0.111               | 11.2                | \n",
      "| 20                  | 0.975               | 0.081               | 0.961               | 0.113               | 11.8                | \n",
      "| 21                  | 0.978               | 0.076               | 0.960               | 0.116               | 12.4                | \n",
      "| 22                  | 0.976               | 0.074               | 0.957               | 0.117               | 13.0                | \n",
      "| 23                  | 0.978               | 0.071               | 0.957               | 0.119               | 13.5                | \n",
      "| 24                  | 0.978               | 0.069               | 0.955               | 0.117               | 14.2                | \n",
      "| 25                  | 0.982               | 0.064               | 0.958               | 0.122               | 14.7                | \n",
      "| 26                  | 0.979               | 0.066               | 0.956               | 0.121               | 15.3                | \n",
      "| 27                  | 0.981               | 0.061               | 0.950               | 0.136               | 15.9                | \n",
      "| 28                  | 0.981               | 0.059               | 0.957               | 0.121               | 16.6                | \n",
      "| 29                  | 0.983               | 0.058               | 0.950               | 0.136               | 17.2                | \n",
      "| 30                  | 0.982               | 0.054               | 0.961               | 0.120               | 17.8                | \n",
      "| 31                  | 0.983               | 0.055               | 0.945               | 0.160               | 18.3                | \n",
      "| 32                  | 0.983               | 0.055               | 0.959               | 0.128               | 18.9                | \n",
      "| 33                  | 0.983               | 0.056               | 0.943               | 0.136               | 19.5                | \n",
      "| 34                  | 0.981               | 0.056               | 0.961               | 0.118               | 20.1                | \n",
      "| 35                  | 0.984               | 0.052               | 0.941               | 0.183               | 20.7                | \n",
      "| 36                  | 0.985               | 0.048               | 0.958               | 0.128               | 21.3                | \n",
      "| 37                  | 0.985               | 0.050               | 0.946               | 0.150               | 21.9                | \n",
      "| 38                  | 0.986               | 0.044               | 0.956               | 0.139               | 22.5                | \n",
      "| 39                  | 0.985               | 0.046               | 0.945               | 0.160               | 23.1                | \n",
      "| 40                  | 0.986               | 0.042               | 0.959               | 0.138               | 23.7                | \n",
      "| 41                  | 0.986               | 0.044               | 0.950               | 0.142               | 24.3                | \n",
      "| 42                  | 0.986               | 0.046               | 0.950               | 0.168               | 24.9                | \n",
      "| 43                  | 0.985               | 0.042               | 0.936               | 0.237               | 25.5                | \n",
      "| 44                  | 0.985               | 0.046               | 0.959               | 0.148               | 26.1                | \n",
      "| 45                  | 0.985               | 0.048               | 0.956               | 0.147               | 26.6                | \n",
      "| 46                  | 0.986               | 0.040               | 0.958               | 0.138               | 27.2                | \n",
      "| 47                  | 0.987               | 0.043               | 0.951               | 0.146               | 27.8                | \n",
      "| 48                  | 0.986               | 0.043               | 0.956               | 0.154               | 28.4                | \n",
      "| 49                  | 0.987               | 0.041               | 0.959               | 0.154               | 29.0                | \n",
      "| 50                  | 0.985               | 0.043               | 0.952               | 0.149               | 29.5                | \n",
      "+---------------------+---------------------+---------------------+---------------------+---------------------+---------------------+\n",
      "Training complete\n",
      "Total Time Spent: 29.5252s\n"
     ]
    }
   ],
   "source": [
    "# Create an activity classifier\n",
    "model = tc.activity_classifier.create(\n",
    "    dataset=train_sf, session_id='sessionId', target='activity', \n",
    "    features=[\"rotX\", \"rotY\", \"rotZ\", \"accelX\", \"accelY\", \"accelZ\"],\n",
    "    prediction_window=20, validation_set=valid_sf, max_iterations=50)"
   ]
  },
  {
   "cell_type": "code",
   "execution_count": 7,
   "metadata": {},
   "outputs": [
    {
     "name": "stdout",
     "output_type": "stream",
     "text": [
      "Class                                    : ActivityClassifier\n",
      "\n",
      "Schema\n",
      "------\n",
      "Number of examples                       : 235057\n",
      "Number of sessions                       : 216\n",
      "Number of classes                        : 4\n",
      "Number of feature columns                : 6\n",
      "Prediction window                        : 20\n",
      "\n",
      "Training summary\n",
      "----------------\n",
      "Log-likelihood                           : 0.0434\n",
      "Training time (sec)                      : 30.0827\n",
      "\n"
     ]
    }
   ],
   "source": [
    "model.summary()"
   ]
  },
  {
   "cell_type": "markdown",
   "metadata": {},
   "source": [
    "## Evaluate trained model"
   ]
  },
  {
   "cell_type": "code",
   "execution_count": 8,
   "metadata": {},
   "outputs": [],
   "source": [
    "metrics = model.evaluate(test_sf)"
   ]
  },
  {
   "cell_type": "code",
   "execution_count": 9,
   "metadata": {},
   "outputs": [
    {
     "name": "stdout",
     "output_type": "stream",
     "text": [
      "Accuracy: 0.9734649489710557\n"
     ]
    }
   ],
   "source": [
    "print(f\"Accuracy: {metrics['accuracy']}\")"
   ]
  },
  {
   "cell_type": "code",
   "execution_count": 10,
   "metadata": {},
   "outputs": [
    {
     "name": "stdout",
     "output_type": "stream",
     "text": [
      "{'accuracy': 0.9734649489710557, 'auc': 0.9966916821874753, 'precision': 0.976516169734427, 'recall': 0.9682026404974962, 'f1_score': 0.9720395581549871, 'log_loss': 0.12406052127540747, 'confusion_matrix': Columns:\n",
      "\ttarget_label\tstr\n",
      "\tpredicted_label\tstr\n",
      "\tcount\tint\n",
      "\n",
      "Rows: 11\n",
      "\n",
      "Data:\n",
      "+--------------+-----------------+-------+\n",
      "| target_label | predicted_label | count |\n",
      "+--------------+-----------------+-------+\n",
      "|   shake_it   |     rest_it     |   96  |\n",
      "|   rest_it    |     drive_it    |   17  |\n",
      "|   drive_it   |     drive_it    |  5443 |\n",
      "|   chop_it    |     rest_it     |  181  |\n",
      "|   chop_it    |     shake_it    |  176  |\n",
      "|   rest_it    |     rest_it     | 13164 |\n",
      "|   chop_it    |     chop_it     |  5118 |\n",
      "|   drive_it   |     rest_it     |  184  |\n",
      "|   shake_it   |     shake_it    |  5367 |\n",
      "|   rest_it    |     chop_it     |   62  |\n",
      "+--------------+-----------------+-------+\n",
      "[11 rows x 3 columns]\n",
      "Note: Only the head of the SFrame is printed.\n",
      "You can use print_rows(num_rows=m, num_columns=n) to print more rows and columns., 'roc_curve': Columns:\n",
      "\tthreshold\tfloat\n",
      "\tfpr\tfloat\n",
      "\ttpr\tfloat\n",
      "\tp\tint\n",
      "\tn\tint\n",
      "\tclass\tstr\n",
      "\n",
      "Rows: 400004\n",
      "\n",
      "Data:\n",
      "+-----------+----------------------+--------------------+------+-------+---------+\n",
      "| threshold |         fpr          |        tpr         |  p   |   n   |  class  |\n",
      "+-----------+----------------------+--------------------+------+-------+---------+\n",
      "|    0.0    |         1.0          |        1.0         | 5475 | 24410 | chop_it |\n",
      "|   1e-05   | 0.10786562884063908  | 0.9963470319634703 | 5475 | 24410 | chop_it |\n",
      "|   2e-05   | 0.07066775911511676  | 0.9963470319634703 | 5475 | 24410 | chop_it |\n",
      "|   3e-05   | 0.06493240475215076  | 0.9963470319634703 | 5475 | 24410 | chop_it |\n",
      "|   4e-05   | 0.058377714051618186 | 0.9963470319634703 | 5475 | 24410 | chop_it |\n",
      "|   5e-05   | 0.04936501433838591  | 0.9963470319634703 | 5475 | 24410 | chop_it |\n",
      "|   6e-05   | 0.03707496927488734  | 0.9963470319634703 | 5475 | 24410 | chop_it |\n",
      "|   7e-05   | 0.027242933224088488 | 0.9963470319634703 | 5475 | 24410 | chop_it |\n",
      "|   8e-05   | 0.023965587873822206 | 0.9963470319634703 | 5475 | 24410 | chop_it |\n",
      "|   9e-05   | 0.02232691519868906  | 0.9963470319634703 | 5475 | 24410 | chop_it |\n",
      "+-----------+----------------------+--------------------+------+-------+---------+\n",
      "[400004 rows x 6 columns]\n",
      "Note: Only the head of the SFrame is printed.\n",
      "You can use print_rows(num_rows=m, num_columns=n) to print more rows and columns.}\n"
     ]
    }
   ],
   "source": [
    "print(metrics)"
   ]
  },
  {
   "cell_type": "code",
   "execution_count": 11,
   "metadata": {},
   "outputs": [
    {
     "name": "stdout",
     "output_type": "stream",
     "text": [
      "+--------------+-----------------+-------+\n",
      "| target_label | predicted_label | count |\n",
      "+--------------+-----------------+-------+\n",
      "|   shake_it   |     rest_it     |   96  |\n",
      "|   rest_it    |     drive_it    |   17  |\n",
      "|   drive_it   |     drive_it    |  5443 |\n",
      "|   chop_it    |     rest_it     |  181  |\n",
      "|   chop_it    |     shake_it    |  176  |\n",
      "|   rest_it    |     rest_it     | 13164 |\n",
      "|   chop_it    |     chop_it     |  5118 |\n",
      "|   drive_it   |     rest_it     |  184  |\n",
      "|   shake_it   |     shake_it    |  5367 |\n",
      "|   rest_it    |     chop_it     |   62  |\n",
      "|   rest_it    |     shake_it    |   77  |\n",
      "+--------------+-----------------+-------+\n",
      "[11 rows x 3 columns]\n",
      "\n"
     ]
    }
   ],
   "source": [
    "metrics['confusion_matrix'].print_rows(num_rows=11)"
   ]
  },
  {
   "cell_type": "markdown",
   "metadata": {},
   "source": [
    "## Save the trained model\n",
    "\n",
    "Export the model to Core ML and save a copy you can reload here if you want to do anything else with it (e.g. test it on a different dataset)"
   ]
  },
  {
   "cell_type": "code",
   "execution_count": 12,
   "metadata": {},
   "outputs": [],
   "source": [
    "model.export_coreml(\"GestureClassifier.mlmodel\")\n",
    "model.save(\"GestureClassifier\")"
   ]
  },
  {
   "cell_type": "code",
   "execution_count": null,
   "metadata": {},
   "outputs": [],
   "source": []
  }
 ],
 "metadata": {
  "kernelspec": {
   "display_name": "Python 3",
   "language": "python",
   "name": "python3"
  },
  "language_info": {
   "codemirror_mode": {
    "name": "ipython",
    "version": 3
   },
   "file_extension": ".py",
   "mimetype": "text/x-python",
   "name": "python",
   "nbconvert_exporter": "python",
   "pygments_lexer": "ipython3",
   "version": "3.6.6"
  }
 },
 "nbformat": 4,
 "nbformat_minor": 2
}
